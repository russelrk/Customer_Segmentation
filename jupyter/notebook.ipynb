<!DOCTYPE html>
<html lang="en">
<head>
    <script nonce="w3myJk73RRGzEs4QxLsk6A==">
    document.addEventListener('keydown', (e) => {
        // Stop propagation on ESC because otherwise it will halt outbound XHRs
        // See b/131755324 for more info.
        if (e.key === 'Escape') {
            e.stopPropagation();
            e.preventDefault();
        }
    });
    </script>
    <meta name="referrer" content="origin"/>
    <meta name="viewport" content="width=device-width, initial-scale=1">
    <title>Google Colab</title>
    <link href="https://fonts.googleapis.com/css2?family=Google+Symbols:FILL@0..1&display=block" rel="stylesheet">
    <link href="https://fonts.googleapis.com/css?family=Roboto:300,400,500,600,700|Google+Sans:300,400,500,600,700&display=block" rel="stylesheet">
    <link rel="search" type="application/opensearchdescription+xml" href="/opensearch.xml" title="Google Colaboratory"/>
    <style>
    .gb_bb:not(.gb_dd) {
        font: 13px/27px Roboto, Arial, sans-serif;
        z-index:986
    }

    @-webkit-keyframes gb__a {
        0% {
            opacity:0
        }

        50% {
            opacity:1
        }
    }

    @keyframes gb__a {
        0% {
            opacity:0
        }

        50% {
            opacity:1
        }
    }

    a.gb_sa {
        border: none;
        color: #4285f4;
        cursor: default;
        font-weight: bold;
        outline: none;
        position: relative;
        text-align: center;
        text-decoration: none;
        text-transform: uppercase;
        white-space: nowrap;
        -webkit-user-select:none
    }

    a.gb_sa:hover:after, a.gb_sa:focus:after {
        background-color: rgba(0, 0, 0, .12);
        content: "";
        height: 100%;
        left: 0;
        position: absolute;
        top: 0;
        width:100%
    }

    a.gb_sa:hover, a.gb_sa:focus {
        text-decoration:none
    }

    a.gb_sa:active {
        background-color: rgba(153, 153, 153, .4);
        text-decoration:none
    }

    a.gb_ta {
        background-color: #4285f4;
        color:#fff
    }

    a.gb_ta:active {
        background-color:#0043b2
    }

    .gb_ua {
        box-shadow:0 1px 1px rgba(0, 0, 0, .16)
    }

    .gb_sa, .gb_ta, .gb_va, .gb_wa {
        display: inline-block;
        line-height: 28px;
        padding: 0 12px;
        border-radius:2px
    }

    .gb_va {
        background: #f8f8f8;
        border:1px solid #c6c6c6
    }

    .gb_wa {
        background:#f8f8f8
    }

    .gb_va, #gb a.gb_va.gb_va, .gb_wa {
        color: #666;
        cursor: default;
        text-decoration:none
    }

    #gb a.gb_wa {
        cursor: default;
        text-decoration:none
    }

    .gb_wa {
        border: 1px solid #4285f4;
        font-weight: bold;
        outline: none;
        background: #4285f4;
        background: -webkit-gradient(linear, left top, left bottom, from(top), color-stop(#4387fd), to(#4683ea));
        background: -webkit-linear-gradient(top, #4387fd, #4683ea);
        background: linear-gradient(top, #4387fd, #4683ea);
        filter:progid:DXImageTransform.Microsoft.gradient(startColorstr=#4387fd, endColorstr=#4683ea, GradientType=0)
    }

    #gb a.gb_wa {
        color:#fff
    }

    .gb_wa:hover {
        box-shadow:0 1px 0 rgba(0, 0, 0, .15)
    }

    .gb_wa:active {
        box-shadow: inset 0 2px 0 rgba(0, 0, 0, .15);
        background: #3c78dc;
        background: -webkit-gradient(linear, left top, left bottom, from(top), color-stop(#3c7ae4), to(#3f76d3));
        background: -webkit-linear-gradient(top, #3c7ae4, #3f76d3);
        background: linear-gradient(top, #3c7ae4, #3f76d3);
        filter:progid:DXImageTransform.Microsoft.gradient(startColorstr=#3c7ae4, endColorstr=#3f76d3, GradientType=0)
    }

    #gb .gb_xa {
        background: #fff;
        border: 1px solid #dadce0;
        color: #1a73e8;
        display: inline-block;
        text-decoration:none
    }

    #gb .gb_xa:hover {
        background: #f8fbff;
        border-color: #dadce0;
        color:#174ea6
    }

    #gb .gb_xa:focus {
        background: #f4f8ff;
        color: #174ea6;
        outline:1px solid #174ea6
    }

    #gb .gb_xa:active, #gb .gb_xa:focus:active {
        background: #ecf3fe;
        color:#174ea6
    }

    #gb .gb_xa.gb_j {
        background: transparent;
        border: 1px solid #5f6368;
        color: #8ab4f8;
        text-decoration:none
    }

    #gb .gb_xa.gb_j:hover {
        background: rgba(255, 255, 255, .04);
        color:#e8eaed
    }

    #gb .gb_xa.gb_j:focus {
        background: rgba(232, 234, 237, .12);
        color: #e8eaed;
        outline:1px solid #e8eaed
    }

    #gb .gb_xa.gb_j:active, #gb .gb_xa.gb_j:focus:active {
        background: rgba(232, 234, 237, .1);
        color:#e8eaed
    }

    .gb_p {
        display:none !important
    }

    .gb_Va {
        visibility:hidden
    }

    .gb_v {
        display: inline-block;
        vertical-align:middle
    }

    .gb_Md .gb_o {
        bottom: -3px;
        right:-5px
    }

    .gb_g {
        position:relative
    }

    .gb_d {
        display: inline-block;
        outline: none;
        vertical-align: middle;
        border-radius: 2px;
        box-sizing: border-box;
        height: 40px;
        width: 40px;
        cursor: pointer;
        text-decoration:none
    }

    #gb#gb a.gb_d {
        cursor: pointer;
        text-decoration:none
    }

    .gb_d, a.gb_d {
        color:#000
    }

    .gb_cf {
        border-color: transparent;
        border-bottom-color: #fff;
        border-style: dashed dashed solid;
        border-width: 0 8.5px 8.5px;
        display: none;
        position: absolute;
        left: 11.5px;
        top: 33px;
        z-index: 1;
        height: 0;
        width: 0;
        -webkit-animation: gb__a .2s;
        animation:gb__a .2s
    }

    .gb_df {
        border-color: transparent;
        border-style: dashed dashed solid;
        border-width: 0 8.5px 8.5px;
        display: none;
        position: absolute;
        left: 11.5px;
        z-index: 1;
        height: 0;
        width: 0;
        -webkit-animation: gb__a .2s;
        animation: gb__a .2s;
        border-bottom-color: rgba(0, 0, 0, .2);
        top:32px
    }

    x:-o-prefocus, div.gb_df {
        border-bottom-color:#ccc
    }

    .gb_0 {
        background: #fff;
        border: 1px solid #ccc;
        border-color: rgba(0, 0, 0, .2);
        color: #000;
        -webkit-box-shadow: 0 2px 10px rgba(0, 0, 0, .2);
        box-shadow: 0 2px 10px rgba(0, 0, 0, .2);
        display: none;
        outline: none;
        overflow: hidden;
        position: absolute;
        right: 8px;
        top: 62px;
        -webkit-animation: gb__a .2s;
        animation: gb__a .2s;
        border-radius: 2px;
        -webkit-user-select:text
    }

    .gb_v.gb_Fa .gb_cf, .gb_v.gb_Fa .gb_df, .gb_v.gb_Fa .gb_0, .gb_Fa.gb_0 {
        display:block
    }

    .gb_v.gb_Fa.gb_ef .gb_cf, .gb_v.gb_Fa.gb_ef .gb_df {
        display:none
    }

    .gb_Nd {
        position: absolute;
        right: 8px;
        top: 62px;
        z-index:-1
    }

    .gb_2a .gb_cf, .gb_2a .gb_df, .gb_2a .gb_0 {
        margin-top:-10px
    }

    .gb_v:first-child, #gbsfw:first-child + .gb_v {
        padding-left:4px
    }

    .gb_Ka.gb_Od .gb_v:first-child {
        padding-left:0
    }

    .gb_Pd {
        position:relative
    }

    .gb_t.gb_vd.gb_9a.gb_kd {
        margin: 0 12px;
        padding:0
    }

    .gb_t .gb_d {
        position:relative
    }

    .gb_t .gb_v {
        margin: 0 4px;
        padding:4px
    }

    .gb_t .gb_Qd {
        display:inline-block
    }

    .gb_t a.gb_gd {
        -webkit-box-align: center;
        -webkit-align-items: center;
        -webkit-align-items: center;
        align-items: center;
        -webkit-border-radius: 100px;
        border-radius: 100px;
        border: 0;
        background: #0b57d0;
        color: #fff;
        display: -webkit-inline-box;
        display: -webkit-inline-flex;
        display: -webkit-inline-box;
        display: -webkit-inline-flex;
        display: inline-flex;
        font-size: 14px;
        font-weight: 500;
        height: 40px;
        white-space: nowrap;
        width:auto
    }

    .gb_t a.gb_d.gb_gd {
        margin: 0 4px;
        padding:4px 24px 4px 24px
    }

    .gb_t a.gb_gd.gb_Rd {
        padding:9px 12px 9px 16px
    }

    .gb_t a.gb_gd.gb_Sd {
        background: transparent;
        border: 1px solid #747775;
        color: #0b57d0;
        outline:0
    }

    .gb_t .gb_s {
        fill:#0b57d0
    }

    .gb_t .gb_Td {
        fill: #0b57d0;
        margin-left:8px
    }

    .gb_t .gb_Td circle {
        fill:#fff
    }

    .gb_t .gb_gd .gb_Dd {
        -webkit-box-flex: 1;
        -webkit-flex-grow: 1;
        -webkit-box-flex: 1;
        box-flex: 1;
        -webkit-flex-grow: 1;
        flex-grow: 1;
        text-align:center
    }

    .gb_t .gb_gd:hover {
        background:#3763cd
    }

    .gb_t .gb_gd:hover .gb_Td {
        fill:#3763cd
    }

    .gb_t .gb_gd:focus, .gb_t .gb_gd:active, .gb_t .gb_gd:focus:hover, .gb_t .gb_gd[aria-expanded=true], .gb_t .gb_gd:hover[aria-expanded=true] {
        background:#416acf
    }

    .gb_t .gb_gd:focus .gb_Td, .gb_t .gb_gd:active .gb_Td, .gb_t .gb_gd:focus:hover .gb_Td, .gb_t .gb_gd[aria-expanded=true] .gb_Td, .gb_t .gb_gd:hover[aria-expanded=true] .gb_Td {
        fill:#416acf
    }

    .gb_t .gb_gd:focus, .gb_t .gb_gd:active, .gb_t .gb_gd[aria-expanded=true] {
        -webkit-box-shadow: 0 1px 3px 1px rgba(66, 64, 67, .15), 0 1px 2px 0 rgba(60, 64, 67, .3);
        box-shadow:0 1px 3px 1px rgba(66, 64, 67, .15), 0 1px 2px 0 rgba(60, 64, 67, .3)
    }

    .gb_t .gb_gd:focus-visible {
        outline: 1px solid #416acf;
        outline-offset:2px
    }

    .gb_t .gb_Aa:focus-visible {
        outline:1px solid #416acf
    }

    .gb_t .gb_j.gb_gd {
        background: #a8c7fa;
        color:#062e6f
    }

    .gb_t .gb_j.gb_gd .gb_Td {
        fill:#a8c7fa
    }

    .gb_t .gb_j.gb_gd .gb_Td circle {
        fill:#062e6f
    }

    .gb_t .gb_j.gb_gd:hover {
        background:#b4cbf6
    }

    .gb_t .gb_j.gb_gd:hover .gb_Td {
        fill:#b4cbf6
    }

    .gb_t .gb_j.gb_gd:focus, .gb_t .gb_j.gb_gd:focus:hover, .gb_t .gb_j.gb_gd:active, .gb_t .gb_j.gb_gd[aria-expanded=true], .gb_t .gb_j.gb_gd:hover[aria-expanded=true] {
        background:#b8cdf7
    }

    .gb_t .gb_j.gb_gd:focus .gb_Td, .gb_t .gb_j.gb_gd:focus:hover .gb_Td, .gb_t .gb_j.gb_gd:active .gb_Td, .gb_t .gb_j.gb_gd[aria-expanded=true] .gb_Td, .gb_t .gb_j.gb_gd:hover[aria-expanded=true] .gb_Td {
        fill:#b8cdf7
    }

    .gb_t .gb_j.gb_gd:focus-visible {
        outline-color:#b8cdf7
    }

    .gb_t .gb_j.gb_gd:focus, .gb_t .gb_j.gb_gd:active, .gb_t .gb_j.gb_gd[aria-expanded=true] {
        -webkit-box-shadow: 0 1px 3px 1px rgba(66, 64, 67, .15), 0 1px 2px 0 rgba(60, 64, 67, .3);
        box-shadow:0 1px 3px 1px rgba(66, 64, 67, .15), 0 1px 2px 0 rgba(60, 64, 67, .3)
    }

    .gb_t .gb_gd.gb_Sd:hover, .gb_t .gb_gd.gb_Sd:focus, .gb_t .gb_gd.gb_Sd[aria-expanded=true], .gb_t .gb_gd.gb_Sd:hover[aria-expanded=true] {
        background: rgba(11, 87, 208, .08);
        -webkit-box-shadow: none;
        box-shadow:none
    }

    .gb_t .gb_gd.gb_Sd:active {
        background: rgba(11, 87, 208, .12);
        -webkit-box-shadow: none;
        box-shadow:none
    }

    .gb_t .gb_gd.gb_Sd:focus-visible {
        border-color: #0b57d0;
        outline:0
    }

    .gb_t .gb_j.gb_gd.gb_Sd {
        background: transparent;
        color:#a8c7fa
    }

    .gb_t .gb_j.gb_gd.gb_Sd:hover, .gb_t .gb_j.gb_gd.gb_Sd:focus, .gb_t .gb_j.gb_gd.gb_Sd[aria-expanded=true], .gb_t .gb_j.gb_gd.gb_Sd:hover[aria-expanded=true] {
        background: rgba(168, 199, 250, .08);
        -webkit-box-shadow: none;
        box-shadow:none
    }

    .gb_t .gb_j.gb_gd.gb_Sd:active {
        background: rgba(168, 199, 250, .12);
        -webkit-box-shadow: none;
        box-shadow:none
    }

    .gb_t .gb_j.gb_gd.gb_Sd:focus-visible {
        border-color: #a8c7fa;
        outline:0
    }

    .gb_j .gb_t .gb_s {
        fill:#a8c7fa
    }

    .gb_j .gb_t .gb_Aa:focus-visible {
        outline-color:#a8c7fa
    }

    .gb_0c .gb_Pd, .gb_f .gb_Pd {
        float:right
    }

    .gb_d {
        padding: 8px;
        cursor:pointer
    }

    .gb_d:after {
        content: "";
        position: absolute;
        top: -4px;
        bottom: -4px;
        left: -4px;
        right:-4px
    }

    .gb_Ka .gb_he:not(.gb_sa):focus img {
        background-color: rgba(0, 0, 0, .2);
        outline: none;
        -webkit-border-radius: 50%;
        border-radius:50%
    }

    .gb_Ud button svg, .gb_d {
        -webkit-border-radius: 50%;
        border-radius:50%
    }

    .gb_Ud button:focus:not(:focus-visible) svg, .gb_Ud button:hover svg, .gb_Ud button:active svg, .gb_d:focus:not(:focus-visible), .gb_d:hover, .gb_d:active, .gb_d[aria-expanded=true] {
        outline:none
    }

    .gb_Jc .gb_Ud.gb_qe button:focus-visible svg, .gb_Ud button:focus-visible svg, .gb_d:focus-visible {
        outline:1px solid #202124
    }

    .gb_Jc .gb_Ud button:focus-visible svg, .gb_Jc .gb_d:focus-visible {
        outline:1px solid #f1f3f4
    }

    @media (forced-colors: active) {
        .gb_Jc .gb_Ud.gb_qe button:focus-visible svg, .gb_Ud button:focus-visible svg, .gb_Jc .gb_Ud button:focus-visible svg {
            outline:1px solid currentcolor
        }
    }

    .gb_Jc .gb_Ud.gb_qe button:focus svg, .gb_Jc .gb_Ud.gb_qe button:focus:hover svg, .gb_Ud button:focus svg, .gb_Ud button:focus:hover svg, .gb_d:focus, .gb_d:focus:hover {
        background-color:rgba(60, 64, 67, .1)
    }

    .gb_Jc .gb_Ud.gb_qe button:active svg, .gb_Ud button:active svg, .gb_d:active {
        background-color:rgba(60, 64, 67, .12)
    }

    .gb_Jc .gb_Ud.gb_qe button:hover svg, .gb_Ud button:hover svg, .gb_d:hover {
        background-color:rgba(60, 64, 67, .08)
    }

    .gb_ya .gb_d.gb_Aa:hover {
        background-color:transparent
    }

    .gb_d[aria-expanded=true], .gb_d:hover[aria-expanded=true] {
        background-color:rgba(95, 99, 104, .24)
    }

    .gb_d[aria-expanded=true] .gb_i {
        fill: #5f6368;
        opacity:1
    }

    .gb_Jc .gb_Ud button:hover svg, .gb_Jc .gb_d:hover {
        background-color:rgba(232, 234, 237, .08)
    }

    .gb_Jc .gb_Ud button:focus svg, .gb_Jc .gb_Ud button:focus:hover svg, .gb_Jc .gb_d:focus, .gb_Jc .gb_d:focus:hover {
        background-color:rgba(232, 234, 237, .1)
    }

    .gb_Jc .gb_Ud button:active svg, .gb_Jc .gb_d:active {
        background-color:rgba(232, 234, 237, .12)
    }

    .gb_Jc .gb_d[aria-expanded=true], .gb_Jc .gb_d:hover[aria-expanded=true] {
        background-color:rgba(255, 255, 255, .12)
    }

    .gb_Jc .gb_d[aria-expanded=true] .gb_i {
        fill: #fff;
        opacity:1
    }

    .gb_v {
        padding:4px
    }

    .gb_Ka.gb_Od .gb_v {
        padding:4px 2px
    }

    .gb_Ka.gb_Od .gb_b.gb_v {
        padding-left:6px
    }

    .gb_0 {
        z-index: 991;
        line-height:normal
    }

    .gb_0.gb_Vd {
        left: 0;
        right:auto
    }

    @media (max-width: 350px) {
        .gb_0.gb_Vd {
            left:0
        }
    }

    .gb_Wd .gb_0 {
        top:56px
    }

    .gb_l .gb_d, .gb_Z .gb_l .gb_d {
        background-position:-64px -29px
    }

    .gb_E .gb_l .gb_d {
        background-position: -29px -29px;
        opacity:1
    }

    .gb_l .gb_d, .gb_l .gb_d:hover, .gb_l .gb_d:focus {
        opacity:1
    }

    .gb_ed {
        display:none
    }

    @media screen and (max-width: 319px) {
        .gb_ld:not(.gb_qd) .gb_l {
            display: none;
            visibility:hidden
        }
    }

    .gb_o {
        display:none
    }

    .gb_8c {
        font-family: Google Sans, Roboto, Helvetica, Arial, sans-serif;
        font-size: 20px;
        font-weight: 400;
        letter-spacing: 0.25px;
        line-height: 48px;
        margin-bottom: 2px;
        opacity: 1;
        overflow: hidden;
        padding-left: 16px;
        position: relative;
        text-overflow: ellipsis;
        vertical-align: middle;
        top: 2px;
        white-space: nowrap;
        -webkit-flex: 1 1 auto;
        -webkit-box-flex: 1;
        flex:1 1 auto
    }

    .gb_8c.gb_9c {
        color:#3c4043
    }

    .gb_Ka.gb_La .gb_8c {
        margin-bottom:0
    }

    .gb_ad.gb_bd .gb_8c {
        padding-left:4px
    }

    .gb_Ka.gb_La .gb_cd {
        position: relative;
        top:-2px
    }

    .gb_Ka {
        color: black;
        min-width: 160px;
        position: relative;
        -webkit-transition: box-shadow 250ms;
        transition:box-shadow 250ms
    }

    .gb_Ka.gb_Rc {
        min-width:120px
    }

    .gb_Ka.gb_jd .gb_kd {
        display:none
    }

    .gb_Ka.gb_jd .gb_ld {
        height:56px
    }

    header.gb_Ka {
        display:block
    }

    .gb_Ka svg {
        fill:currentColor
    }

    .gb_md {
        position: fixed;
        top: 0;
        width:100%
    }

    .gb_nd {
        -webkit-box-shadow: 0 4px 5px 0 rgba(0, 0, 0, .14), 0 1px 10px 0 rgba(0, 0, 0, .12), 0 2px 4px -1px rgba(0, 0, 0, .2);
        box-shadow:0 4px 5px 0 rgba(0, 0, 0, .14), 0 1px 10px 0 rgba(0, 0, 0, .12), 0 2px 4px -1px rgba(0, 0, 0, .2)
    }

    .gb_od {
        height:64px
    }

    .gb_ld {
        -webkit-box-sizing: border-box;
        box-sizing: border-box;
        position: relative;
        width: 100%;
        display: -webkit-box;
        display: -webkit-flex;
        display: flex;
        -webkit-box-pack: space-between;
        -webkit-justify-content: space-between;
        justify-content: space-between;
        min-width: -webkit-min-content;
        min-width:min-content
    }

    .gb_Ka:not(.gb_La) .gb_ld {
        padding:8px
    }

    .gb_Ka.gb_pd .gb_ld {
        -webkit-flex: 1 0 auto;
        -webkit-box-flex: 1;
        flex:1 0 auto
    }

    .gb_Ka .gb_ld.gb_qd.gb_rd {
        min-width:0
    }

    .gb_Ka.gb_La .gb_ld {
        padding: 4px;
        padding-left: 8px;
        min-width:0
    }

    .gb_kd {
        height: 48px;
        vertical-align: middle;
        white-space: nowrap;
        -webkit-box-align: center;
        -webkit-align-items: center;
        align-items: center;
        display: -webkit-box;
        display: -webkit-flex;
        display: flex;
        -webkit-user-select:none
    }

    .gb_td > .gb_kd {
        display: table-cell;
        width:100%
    }

    .gb_ad {
        padding-right: 30px;
        box-sizing: border-box;
        -webkit-flex: 1 0 auto;
        -webkit-box-flex: 1;
        flex:1 0 auto
    }

    .gb_Ka.gb_La .gb_ad {
        padding-right:14px
    }

    .gb_ud {
        -webkit-flex: 1 1 100%;
        -webkit-box-flex: 1;
        flex:1 1 100%
    }

    .gb_ud > :only-child {
        display:inline-block
    }

    .gb_vd.gb_1c {
        padding-left:4px
    }

    .gb_vd.gb_wd, .gb_Ka.gb_pd .gb_vd, .gb_Ka.gb_La:not(.gb_f) .gb_vd {
        padding-left:0
    }

    .gb_Ka.gb_La .gb_vd.gb_wd {
        padding-right:0
    }

    .gb_Ka.gb_La .gb_vd.gb_wd .gb_ya {
        margin-left:10px
    }

    .gb_1c {
        display:inline
    }

    .gb_Ka.gb_Uc .gb_vd.gb_xd, .gb_Ka.gb_f .gb_vd.gb_xd {
        padding-left:2px
    }

    .gb_8c {
        display:inline-block
    }

    .gb_vd {
        -webkit-box-sizing: border-box;
        box-sizing: border-box;
        height: 48px;
        line-height: normal;
        padding: 0 4px;
        padding-left: 30px;
        -webkit-flex: 0 0 auto;
        -webkit-box-flex: 0;
        flex: 0 0 auto;
        -webkit-box-pack: flex-end;
        -webkit-justify-content: flex-end;
        justify-content:flex-end
    }

    .gb_f {
        height:48px
    }

    .gb_Ka.gb_f {
        min-width:auto
    }

    .gb_f .gb_vd {
        float: right;
        padding-left:32px
    }

    .gb_f .gb_vd.gb_yd {
        padding-left:0
    }

    .gb_zd {
        font-size: 14px;
        max-width: 200px;
        overflow: hidden;
        padding: 0 12px;
        text-overflow: ellipsis;
        white-space: nowrap;
        -webkit-user-select:text
    }

    .gb_fd {
        -webkit-transition: background-color .4s;
        -webkit-transition: background-color .4s;
        transition:background-color .4s
    }

    .gb_Fd {
        color:black
    }

    .gb_Jc {
        color:white
    }

    .gb_Ka a, .gb_Oc a {
        color:inherit
    }

    .gb_P {
        color:rgba(0, 0, 0, .87)
    }

    .gb_Ka svg, .gb_Oc svg, .gb_ad .gb_id, .gb_0c .gb_id {
        color: #5f6368;
        opacity:1
    }

    .gb_Jc svg, .gb_Oc.gb_Sc svg, .gb_Jc .gb_ad .gb_id, .gb_Jc .gb_ad .gb_Ic, .gb_Jc .gb_ad .gb_cd, .gb_Oc.gb_Sc .gb_id {
        color:rgba(255, 255, 255, .87)
    }

    .gb_Jc .gb_ad .gb_Hc:not(.gb_Hd) {
        opacity:.87
    }

    .gb_9c {
        color: inherit;
        opacity: 1;
        text-rendering: optimizeLegibility;
        -webkit-font-smoothing:antialiased
    }

    .gb_Jc .gb_9c, .gb_Fd .gb_9c {
        opacity:1
    }

    .gb_Ad {
        position:relative
    }

    .gb_Bd {
        font-family: arial, sans-serif;
        line-height: normal;
        padding-right:15px
    }

    a.gb_B, span.gb_B {
        color: rgba(0, 0, 0, .87);
        text-decoration:none
    }

    .gb_Jc a.gb_B, .gb_Jc span.gb_B {
        color:white
    }

    a.gb_B:focus {
        outline-offset:2px
    }

    a.gb_B:hover {
        text-decoration:underline
    }

    .gb_C {
        display: inline-block;
        padding-left:15px
    }

    .gb_C .gb_B {
        display: inline-block;
        line-height: 24px;
        vertical-align:middle
    }

    .gb_Id {
        font-family: Google Sans, Roboto, Helvetica, Arial, sans-serif;
        font-weight: 500;
        font-size: 14px;
        letter-spacing: .25px;
        line-height: 16px;
        margin-left: 10px;
        margin-right: 8px;
        min-width: 96px;
        padding: 9px 23px;
        text-align: center;
        vertical-align: middle;
        border-radius: 4px;
        box-sizing:border-box
    }

    .gb_Ka.gb_f .gb_Id {
        margin-left:8px
    }

    #gb a.gb_wa.gb_Id {
        cursor:pointer
    }

    .gb_wa.gb_Id:hover {
        background: #1b66c9;
        -webkit-box-shadow: 0 1px 3px 1px rgba(66, 64, 67, .15), 0 1px 2px 0 rgba(60, 64, 67, .3);
        box-shadow:0 1px 3px 1px rgba(66, 64, 67, .15), 0 1px 2px 0 rgba(60, 64, 67, .3)
    }

    .gb_wa.gb_Id:focus, .gb_wa.gb_Id:hover:focus {
        background: #1c5fba;
        -webkit-box-shadow: 0 1px 3px 1px rgba(66, 64, 67, .15), 0 1px 2px 0 rgba(60, 64, 67, .3);
        box-shadow:0 1px 3px 1px rgba(66, 64, 67, .15), 0 1px 2px 0 rgba(60, 64, 67, .3)
    }

    .gb_wa.gb_Id:active {
        background: #1b63c1;
        -webkit-box-shadow: 0 1px 3px 1px rgba(66, 64, 67, .15), 0 1px 2px 0 rgba(60, 64, 67, .3);
        box-shadow:0 1px 3px 1px rgba(66, 64, 67, .15), 0 1px 2px 0 rgba(60, 64, 67, .3)
    }

    .gb_Id {
        background: #1a73e8;
        border:1px solid transparent
    }

    .gb_Ka.gb_La .gb_Id {
        padding: 9px 15px;
        min-width:80px
    }

    .gb_Cd {
        text-align:left
    }

    #gb .gb_Jc a.gb_Id:not(.gb_j), #gb.gb_Jc a.gb_Id:not(.gb_Jd) {
        background: #fff;
        border-color: #dadce0;
        -webkit-box-shadow: none;
        box-shadow: none;
        color:#1a73e8
    }

    #gb a.gb_wa.gb_j.gb_Id {
        background: #8ab4f8;
        border: 1px solid transparent;
        -webkit-box-shadow: none;
        box-shadow: none;
        color:#202124
    }

    #gb .gb_Jc a.gb_Id:hover:not(.gb_j), #gb.gb_Jc a.gb_Id:not(.gb_Jd):hover {
        background: #f8fbff;
        border-color:#cce0fc
    }

    #gb a.gb_wa.gb_j.gb_Id:hover {
        background: #93baf9;
        border-color: transparent;
        -webkit-box-shadow: 0 1px 3px 1px rgba(0, 0, 0, .15), 0 1px 2px rgba(0, 0, 0, .3);
        box-shadow:0 1px 3px 1px rgba(0, 0, 0, .15), 0 1px 2px rgba(0, 0, 0, .3)
    }

    #gb .gb_Jc a.gb_Id:focus:not(.gb_j), #gb .gb_Jc a.gb_Id:focus:hover:not(.gb_j), #gb.gb_Jc a.gb_Id:focus:not(.gb_j), #gb.gb_Jc a.gb_Id:focus:hover:not(.gb_j) {
        background: #f4f8ff;
        outline:1px solid #c9ddfc
    }

    #gb a.gb_wa.gb_j.gb_Id:focus, #gb a.gb_wa.gb_j.gb_Id:focus:hover {
        background: #a6c6fa;
        border-color: transparent;
        -webkit-box-shadow: none;
        box-shadow:none
    }

    #gb .gb_Jc a.gb_Id:active:not(.gb_j), #gb.gb_Jc a.gb_Id:not(.gb_Jd):active {
        background:#ecf3fe
    }

    #gb a.gb_wa.gb_j.gb_Id:active {
        background: #a1c3f9;
        -webkit-box-shadow: 0 1px 2px rgba(60, 64, 67, .3), 0 2px 6px 2px rgba(60, 64, 67, .15);
        box-shadow:0 1px 2px rgba(60, 64, 67, .3), 0 2px 6px 2px rgba(60, 64, 67, .15)
    }

    .gb_Kd {
        display:none
    }

    @media screen and (max-width: 319px) {
        .gb_ld:not(.gb_qd) .gb_l {
            display: none;
            visibility:hidden
        }
    }

    .gb_ya {
        background-color: rgba(255, 255, 255, .88);
        border: 1px solid #dadce0;
        -webkit-box-sizing: border-box;
        box-sizing: border-box;
        cursor: pointer;
        display: inline-block;
        max-height: 48px;
        overflow: hidden;
        outline: none;
        padding: 0;
        vertical-align: middle;
        width: 134px;
        -webkit-border-radius: 8px;
        border-radius:8px
    }

    .gb_ya.gb_j {
        background-color: transparent;
        border:1px solid #5f6368
    }

    .gb_Ea {
        display:inherit
    }

    .gb_ya.gb_j .gb_Ea {
        background: #fff;
        -webkit-border-radius: 4px;
        border-radius: 4px;
        display: inline-block;
        left: 8px;
        margin-right: 5px;
        position: relative;
        padding: 3px;
        top:-1px
    }

    .gb_ya:hover {
        border: 1px solid #d2e3fc;
        background-color:rgba(248, 250, 255, .88)
    }

    .gb_ya.gb_j:hover {
        background-color: rgba(241, 243, 244, .04);
        border:1px solid #5f6368
    }

    .gb_ya:focus-visible, .gb_ya:focus {
        background-color: #fff;
        outline: 1px solid #202124;
        -webkit-box-shadow: 0 1px 2px 0 rgba(60, 64, 67, .3), 0 1px 3px 1px rgba(60, 64, 67, .15);
        box-shadow:0 1px 2px 0 rgba(60, 64, 67, .3), 0 1px 3px 1px rgba(60, 64, 67, .15)
    }

    .gb_ya.gb_j:focus-visible, .gb_ya.gb_j:focus {
        background-color: rgba(241, 243, 244, .12);
        outline: 1px solid #f1f3f4;
        -webkit-box-shadow: 0 1px 3px 1px rgba(0, 0, 0, .15), 0 1px 2px 0 rgba(0, 0, 0, .3);
        box-shadow:0 1px 3px 1px rgba(0, 0, 0, .15), 0 1px 2px 0 rgba(0, 0, 0, .3)
    }

    .gb_ya.gb_j:active, .gb_ya.gb_Fa.gb_j:focus {
        background-color: rgba(241, 243, 244, .1);
        border:1px solid #5f6368
    }

    .gb_Ha {
        display: inline-block;
        padding-bottom: 2px;
        padding-left: 7px;
        padding-top: 2px;
        text-align: center;
        vertical-align: middle;
        line-height: 32px;
        width:78px
    }

    .gb_ya.gb_j .gb_Ha {
        line-height: 26px;
        margin-left: 0;
        padding-bottom: 0;
        padding-left: 0;
        padding-top: 0;
        width:72px
    }

    .gb_Ha.gb_Ia {
        background-color: #f1f3f4;
        -webkit-border-radius: 4px;
        border-radius: 4px;
        margin-left: 8px;
        padding-left: 0;
        line-height:30px
    }

    .gb_Ha.gb_Ia .gb_Ja {
        vertical-align:middle
    }

    .gb_Ka:not(.gb_La) .gb_ya {
        margin-left: 10px;
        margin-right:4px
    }

    .gb_Ma {
        max-height: 32px;
        width:78px
    }

    .gb_ya.gb_j .gb_Ma {
        max-height: 26px;
        width:72px
    }

    .gb_n {
        -webkit-background-size: 32px 32px;
        background-size: 32px 32px;
        border: 0;
        -webkit-border-radius: 50%;
        border-radius: 50%;
        display: block;
        margin: 0px;
        position: relative;
        height: 32px;
        width: 32px;
        z-index:0
    }

    .gb_Wa {
        background-color: #e8f0fe;
        border: 1px solid rgba(32, 33, 36, .08);
        position:relative
    }

    .gb_Wa.gb_n {
        height: 30px;
        width:30px
    }

    .gb_Wa.gb_n:hover, .gb_Wa.gb_n:active {
        -webkit-box-shadow: none;
        box-shadow:none
    }

    .gb_Xa {
        background: #fff;
        border: none;
        -webkit-border-radius: 50%;
        border-radius: 50%;
        bottom: 2px;
        -webkit-box-shadow: 0px 1px 2px 0px rgba(60, 64, 67, .30), 0px 1px 3px 1px rgba(60, 64, 67, .15);
        box-shadow: 0px 1px 2px 0px rgba(60, 64, 67, .30), 0px 1px 3px 1px rgba(60, 64, 67, .15);
        height: 14px;
        margin: 2px;
        position: absolute;
        right: 0;
        width:14px
    }

    .gb_Za {
        color: #1f71e7;
        font: 400 22px/32px Google Sans, Roboto, Helvetica, Arial, sans-serif;
        text-align: center;
        text-transform:uppercase
    }

    @media (-webkit-min-device-pixel-ratio: 1.25),(min-resolution: 1.25dppx),(min-device-pixel-ratio: 1.25) {
        .gb_n::before, .gb_0a::before {
            display: inline-block;
            -webkit-transform: scale(0.5);
            -webkit-transform: scale(0.5);
            transform: scale(0.5);
            -webkit-transform-origin: left 0;
            -webkit-transform-origin: left 0;
            transform-origin:left 0
        }

        .gb_H .gb_0a::before {
            -webkit-transform: scale(scale(0.416666667));
            -webkit-transform: scale(scale(0.416666667));
            transform:scale(scale(0.416666667))
        }
    }

    .gb_n:hover, .gb_n:focus {
        -webkit-box-shadow: 0 1px 0 rgba(0, 0, 0, .15);
        box-shadow:0 1px 0 rgba(0, 0, 0, .15)
    }

    .gb_n:active {
        -webkit-box-shadow: inset 0 2px 0 rgba(0, 0, 0, .15);
        box-shadow:inset 0 2px 0 rgba(0, 0, 0, .15)
    }

    .gb_n:active::after {
        background: rgba(0, 0, 0, .1);
        -webkit-border-radius: 50%;
        border-radius: 50%;
        content: "";
        display: block;
        height:100%
    }

    .gb_1a {
        cursor: pointer;
        line-height: 40px;
        min-width: 30px;
        opacity: .75;
        overflow: hidden;
        vertical-align: middle;
        text-overflow:ellipsis
    }

    .gb_d.gb_1a {
        width:auto
    }

    .gb_1a:hover, .gb_1a:focus {
        opacity:.85
    }

    .gb_2a .gb_1a, .gb_2a .gb_3a {
        line-height:26px
    }

    #gb#gb.gb_2a a.gb_1a, .gb_2a .gb_3a {
        font-size: 11px;
        height:auto
    }

    .gb_4a {
        border-top: 4px solid #000;
        border-left: 4px dashed transparent;
        border-right: 4px dashed transparent;
        display: inline-block;
        margin-left: 6px;
        opacity: .75;
        vertical-align:middle
    }

    .gb_Aa:hover .gb_4a {
        opacity:.85
    }

    .gb_ya > .gb_b {
        padding:3px 3px 3px 4px
    }

    .gb_5a.gb_Va {
        color:#fff
    }

    .gb_E .gb_1a, .gb_E .gb_4a {
        opacity:1
    }

    #gb#gb.gb_E.gb_E a.gb_1a, #gb#gb .gb_E.gb_E a.gb_1a {
        color:#fff
    }

    .gb_E.gb_E .gb_4a {
        border-top-color: #fff;
        opacity:1
    }

    .gb_Z .gb_n:hover, .gb_E .gb_n:hover, .gb_Z .gb_n:focus, .gb_E .gb_n:focus {
        -webkit-box-shadow: 0 1px 0 rgba(0, 0, 0, .15), 0 1px 2px rgba(0, 0, 0, .2);
        box-shadow:0 1px 0 rgba(0, 0, 0, .15), 0 1px 2px rgba(0, 0, 0, .2)
    }

    .gb_6a .gb_b, .gb_7a .gb_b {
        position: absolute;
        right:1px
    }

    .gb_b.gb_D, .gb_8a.gb_D, .gb_Aa.gb_D {
        -webkit-flex: 0 1 auto;
        -webkit-box-flex: 0;
        flex:0 1 auto
    }

    .gb_9a.gb_ab .gb_1a {
        width:30px !important
    }

    .gb_m {
        height: 40px;
        position: absolute;
        right: -5px;
        top: -5px;
        width:40px
    }

    .gb_bb .gb_m, .gb_cb .gb_m {
        right: 0;
        top:0
    }

    .gb_b .gb_d {
        padding:4px
    }

    .gb_q {
        display:none
    }

    sentinel {
    }
    </style>
    <script nonce="w3myJk73RRGzEs4QxLsk6A==">
    ;
    this.gbar_ = {
        CONFIG: [[[0, "www.gstatic.com", "og.qtm.en_US.5ZwcNwPr-wE.2019.O", "com", "en", "425", 0, [4, 2, "", "", "", "591754533", "0"], null, "h3CTZbLHFZCxp84P3oal2A4", null, 0, "og.qtm.P-yYJZldN74.L.W.O", "AA2YrTsiUx4l77LWlQjnyVCN2_e6Ravc8w", "AA2YrTsX3pQLS61VD9WpCeQM8gdC500iAA", "", 2, 1, 200, "USA", null, null, "425", "425", 1, null, null, 114591953], null, [1, 0.1000000014901161, 2, 1], null, [1, 0, 0, null, "0", "russel.rk@gmail.com", "", "AIA20m5Cp85wMW4pa18lzFTASY5khCr-74KZRBoZxSyXS9IR72lF0BQ79kyr78yNaoGOVS4iksr0jbap6EWQRzaXHBbvqMV5Pw", 0, 0, 0], [0, 0, "", 1, 0, 0, 0, 0, 0, 0, null, 0, 0, null, 0, 0, null, null, 0, 0, 0, "", "", "", "", "", "", null, 0, 0, 0, 0, 0, null, null, null, "rgba(32,33,36,1)", "rgba(255,255,255,1)", 0, 0, 0, null, null, 1, 0, 0], ["%1$s (default)", "Brand account", 1, "%1$s (delegated)", 1, null, 83, "https://colab.research.google.com/drive/1dLNMUHPRTOfMCahIcuBNzSN7HUm_62r8?authuser=$authuser", null, null, null, 1, "https://accounts.google.com/ListAccounts?listPages=0\u0026authuser=0\u0026pid=425\u0026gpsia=1\u0026source=ogb\u0026atic=1\u0026mo=1\u0026mn=1\u0026hl=en\u0026ts=250", 0, "dashboard", null, null, null, null, "Profile", "", 1, null, "Signed out", "https://accounts.google.com/AccountChooser?source=ogb\u0026continue=$continue\u0026Email=$email\u0026ec=GAhAqQM", "https://accounts.google.com/RemoveLocalAccount?source=ogb", "Remove", "Sign in", 0, 1, 1, 0, 1, 1, 0, null, null, null, "Session expired", null, null, null, "Visitor", null, "Default", "Delegated", "Sign out of all accounts", 1, null, null, 0, null, null, "myaccount.google.com", "https", 0, 1, 0], null, ["1", "gci_91f30755d6a6b787dcc2a4062e6e9824.js", "googleapis.client:gapi.iframes", "0", "en"], null, null, null, null, ["m;/_/scs/abc-static/_/js/k=gapi.gapi.en.GsbA68hXs80.O/d=1/rs=AHpOoo899t-H8Lxb3OqzMDuPn6TV_i36ag/m=__features__", "https://apis.google.com", "", "", "1", "", null, 1, "es_plusone_gc_20231128.0_p1", "en", null, 0], [0.009999999776482582, "com", "425", [null, "", "0", null, 1, 5184000, null, null, "", null, null, null, null, null, 0, null, 0, null, 1, 0, 0, 0, null, null, 0, 0, null, 0, 0, 0, 0, 0], null, null, null, 0, null, null, ["5061451", "google\\.(com|ru|ca|by|kz|com\\.mx|com\\.tr)$", 1]], [1, 1, null, 40400, 425, "USA", "en", "591754533.0", 8, 0.009999999776482582, 1, 0, null, null, null, null, "3701183,3701185", null, null, null, "h3CTZbLHFZCxp84P3oal2A4", 0, 0, 0, null, 2, 5, "nn", 52, 0, 0, 1, 1, 1, 114591953], [[null, null, null, "https://www.gstatic.com/og/_/js/k=og.qtm.en_US.5ZwcNwPr-wE.2019.O/rt=j/m=qabr,qgl,q_dnp,qcwid,qbd,qapid,qrcd,q_dg/exm=qaaw,qadd,qaid,qein,qhaw,qhba,qhbr,qhch,qhga,qhid,qhin/d=1/ed=1/rs=AA2YrTsiUx4l77LWlQjnyVCN2_e6Ravc8w"], [null, null, null, "https://www.gstatic.com/og/_/ss/k=og.qtm.P-yYJZldN74.L.W.O/m=qcwid/excm=qaaw,qadd,qaid,qein,qhaw,qhba,qhbr,qhch,qhga,qhid,qhin/d=1/ed=1/ct=zgms/rs=AA2YrTsX3pQLS61VD9WpCeQM8gdC500iAA"]], null, null, null, [[[null, null, [null, null, null, "https://ogs.google.com/u/0/widget/account?amf=1\u0026amb=1\u0026sea=1"], 0, 414, 436, 57, 4, 1, 0, 0, 65, 66, 8000, "https://accounts.google.com/SignOutOptions?hl=en\u0026continue=https://colab.research.google.com/drive/1dLNMUHPRTOfMCahIcuBNzSN7HUm_62r8\u0026ec=GBRAqQM", 68, 2, null, null, 1, 113, "Something went wrong.%1$s Refresh to try again or %2$schoose another account%3$s.", 3, null, null, 75, 0, null, null, null, null, null, null, null, "/widget/account", ["https", "myaccount.google.com", 0, 32, 83, 0], 0, 0, 1, ["Critical security alert", "Important account alert"], 0, 1, null, 1, 1]], null, null, "425", "425", 1, 0, null, "en", 0, ["https://colab.research.google.com/drive/1dLNMUHPRTOfMCahIcuBNzSN7HUm_62r8?authuser=$authuser", "https://accounts.google.com/AddSession?hl=en\u0026continue=https://colab.research.google.com/drive/1dLNMUHPRTOfMCahIcuBNzSN7HUm_62r8\u0026ec=GAlAqQM", "https://accounts.google.com/Logout?hl=en\u0026continue=https://colab.research.google.com/drive/1dLNMUHPRTOfMCahIcuBNzSN7HUm_62r8\u0026timeStmp=1704161415\u0026secTok=.AG5fkS9HbicxisSTBDn0alEdqYNwZQCp8Q\u0026ec=GAdAqQM", "https://accounts.google.com/ListAccounts?listPages=0\u0026authuser=0\u0026pid=425\u0026gpsia=1\u0026source=ogb\u0026atic=1\u0026mo=1\u0026mn=1\u0026hl=en\u0026ts=250", 0, 0, "", 0, 0, null, 0, 0, "https://accounts.google.com/ServiceLogin?passive=true\u0026continue=https%3A%2F%2Fcolab.research.google.com%2Fdrive%2F1dLNMUHPRTOfMCahIcuBNzSN7HUm_62r8\u0026ec=GAZAqQM"], 0, 0, 0, null, 0], null, [["mousedown", "touchstart", "touchmove", "wheel", "keydown"], 300000], [[null, null, null, "https://accounts.google.com/RotateCookiesPage"], 3, 4000, 1, 0, 3701183, 0]]],
    };
    this.gbar_ = this.gbar_ || {};
    (function(_) {
        var window = this;
        try {
            _._F_toggles_initialize = function(a) {
                return function(b) {
                    a._F_toggles = b || []
                }
            }(this || self);
            (0, _._F_toggles_initialize)([]);
            /*

             Copyright The Closure Library Authors.
             SPDX-License-Identifier: Apache-2.0
            */
            var ea,
                ka,
                na,
                oa,
                wa,
                xa,
                ya,
                za,
                Aa,
                Ca,
                Da,
                Ea,
                Ha,
                Ua,
                Ta,
                Xa,
                Za,
                Ya,
                $a,
                ab,
                ib;
            _.aa = function(a, b) {
                if (Error.captureStackTrace)
                    Error.captureStackTrace(this, _.aa);
                else {
                    const c = Error().stack;
                    c && (this.stack = c)
                }
                a && (this.message = String(a));
                void 0 !== b && (this.cause = b)
            };
            _.ba = function() {
                var a = _.q.navigator;
                return a && (a = a.userAgent) ? a : ""
            };
            ea = function(a) {
                return ca ? da ? da.brands.some(({brand: b}) => b && -1 != b.indexOf(a)) : !1 : !1
            };
            _.t = function(a) {
                return -1 != _.ba().indexOf(a)
            };
            _.fa = function() {
                return ca ? !!da && 0 < da.brands.length : !1
            };
            _.ha = function() {
                return _.fa() ? !1 : _.t("Opera")
            };
            _.ia = function() {
                return _.fa() ? !1 : _.t("Trident") || _.t("MSIE")
            };
            _.ja = function() {
                return _.t("Firefox") || _.t("FxiOS")
            };
            _.la = function() {
                return _.t("Safari") && !(ka() || (_.fa() ? 0 : _.t("Coast")) || _.ha() || (_.fa() ? 0 : _.t("Edge")) || (_.fa() ? ea("Microsoft Edge") : _.t("Edg/")) || (_.fa() ? ea("Opera") : _.t("OPR")) || _.ja() || _.t("Silk") || _.t("Android"))
            };
            ka = function() {
                return _.fa() ? ea("Chromium") : (_.t("Chrome") || _.t("CriOS")) && !(_.fa() ? 0 : _.t("Edge")) || _.t("Silk")
            };
            _.ma = function() {
                return _.t("Android") && !(ka() || _.ja() || _.ha() || _.t("Silk"))
            };
            na = function() {
                return ca ? !!da && !!da.platform : !1
            };
            oa = function() {
                return _.t("iPhone") && !_.t("iPod") && !_.t("iPad")
            };
            _.pa = function() {
                return oa() || _.t("iPad") || _.t("iPod")
            };
            _.qa = function() {
                return na() ? "macOS" === da.platform : _.t("Macintosh")
            };
            _.sa = function(a, b) {
                return 0 <= _.ra(a, b)
            };
            _.ta = function(a) {
                let b = "",
                    c = 0;
                const d = a.length - 10240;
                for (; c < d;)
                    b += String.fromCharCode.apply(null, a.subarray(c, c += 10240));
                b += String.fromCharCode.apply(null, c ? a.subarray(c) : a);
                return btoa(b)
            };
            _.ua = function(a) {
                return null != a && a instanceof Uint8Array
            };
            _.va = function(a) {
                return Array.prototype.slice.call(a)
            };
            wa = function(a) {
                const b = a[_.u] | 0;
                1 !== (b & 1) && (Object.isFrozen(a) && (a = _.va(a)), a[_.u] = b | 1)
            };
            xa = function() {
                var a = [];
                a[_.u] |= 1;
                return a
            };
            ya = function(a, b) {
                b[_.u] = (a | 0) & -14591
            };
            za = function(a, b) {
                b[_.u] = (a | 34) & -14557
            };
            Aa = function(a) {
                a = a >> 14 & 1023;
                return 0 === a ? 536870912 : a
            };
            Ca = function(a) {
                return !(!a || "object" !== typeof a || a.Ni !== Ba)
            };
            Da = function(a) {
                return null !== a && "object" === typeof a && !Array.isArray(a) && a.constructor === Object
            };
            Ea = function(a, b, c) {
                if (!Array.isArray(a) || a.length)
                    return !1;
                const d = a[_.u] | 0;
                if (d & 1)
                    return !0;
                if (!(b && (Array.isArray(b) ? b.includes(c) : b.has(c))))
                    return !1;
                a[_.u] = d | 1;
                return !0
            };
            _.Fa = function(a) {
                if (a & 2)
                    throw Error();
            };
            Ha = function(a, b) {
                (b = _.Ga ? b[_.Ga] : void 0) && (a[_.Ga] = _.va(b))
            };
            _.Ia = function(a) {
                a = Error(a);
                a.__closure__error__context__984382 || (a.__closure__error__context__984382 = {});
                a.__closure__error__context__984382.severity = "warning";
                return a
            };
            _.Ja = function(a) {
                if (!Number.isFinite(a))
                    throw _.Ia("enum");
                return a | 0
            };
            _.Ka = function(a) {
                if ("number" !== typeof a)
                    throw _.Ia("int32");
                if (!Number.isFinite(a))
                    throw _.Ia("int32");
                return a | 0
            };
            _.La = function(a) {
                if (null != a && "string" !== typeof a)
                    throw Error();
                return a
            };
            _.Ma = function(a) {
                return null == a || "string" === typeof a ? a : void 0
            };
            _.Oa = function(a, b, c) {
                if (null != a && "object" === typeof a && a.Od === _.Na)
                    return a;
                if (Array.isArray(a)) {
                    var d = a[_.u] | 0,
                        e = d;
                    0 === e && (e |= c & 32);
                    e |= c & 2;
                    e !== d && (a[_.u] = e);
                    return new b(a)
                }
            };
            _.Qa = function(a, b) {
                Pa = b;
                a = new a(b);
                Pa = void 0;
                return a
            };
            _.Sa = function(a, b, c) {
                null == a && (a = Pa);
                Pa = void 0;
                if (null == a) {
                    var d = 96;
                    c ? (a = [c], d |= 512) : a = [];
                    b && (d = d & -16760833 | (b & 1023) << 14)
                } else {
                    if (!Array.isArray(a))
                        throw Error();
                    d = a[_.u] | 0;
                    if (d & 64)
                        return _.Ra && delete a[_.Ra], a;
                    d |= 64;
                    if (c && (d |= 512, c !== a[0]))
                        throw Error();
                    a:
                    {
                        c = a;
                        const e = c.length;
                        if (e) {
                            const f = e - 1;
                            if (Da(c[f])) {
                                d |= 256;
                                b = f - (+!!(d & 512) - 1);
                                if (1024 <= b)
                                    throw Error();
                                d = d & -16760833 | (b & 1023) << 14;
                                break a
                            }
                        }
                        if (b) {
                            b = Math.max(b, e - (+!!(d & 512) - 1));
                            if (1024 < b)
                                throw Error();
                            d = d & -16760833 | (b & 1023) << 14
                        }
                    }
                }
                a[_.u] = d;
                return a
            };
            Ua = function(a, b) {
                return Ta(b)
            };
            Ta = function(a) {
                switch (typeof a) {
                case "number":
                    return isFinite(a) ? a : String(a);
                case "boolean":
                    return a ? 1 : 0;
                case "object":
                    if (a) {
                        if (Array.isArray(a))
                            return Va || !Ea(a, void 0, 9999) ? a : void 0;
                        if (_.ua(a))
                            return _.ta(a);
                        if ("function" == typeof _.Wa && a instanceof _.Wa)
                            return a.qg()
                    }
                }
                return a
            };
            Xa = function(a, b, c) {
                const d = _.va(a);
                var e = d.length;
                const f = b & 256 ? d[e - 1] : void 0;
                e += f ? -1 : 0;
                for (b = b & 512 ? 1 : 0; b < e; b++)
                    d[b] = c(d[b]);
                if (f) {
                    b = d[b] = {};
                    for (const g in f)
                        b[g] = c(f[g])
                }
                Ha(d, a);
                return d
            };
            Za = function(a, b, c, d, e, f) {
                if (null != a) {
                    if (Array.isArray(a))
                        a = e && 0 == a.length && (a[_.u] | 0) & 1 ? void 0 : f && (a[_.u] | 0) & 2 ? a : Ya(a, b, c, void 0 !== d, e, f);
                    else if (Da(a)) {
                        const g = {};
                        for (let h in a)
                            g[h] = Za(a[h], b, c, d, e, f);
                        a = g
                    } else
                        a = b(a, d);
                    return a
                }
            };
            Ya = function(a, b, c, d, e, f) {
                const g = d || c ? a[_.u] | 0 : 0;
                d = d ? !!(g & 32) : void 0;
                const h = _.va(a);
                for (let k = 0; k < h.length; k++)
                    h[k] = Za(h[k], b, c, d, e, f);
                c && (Ha(h, a), c(g, h));
                return h
            };
            $a = function(a) {
                return a.Od === _.Na ? a.toJSON() : Ta(a)
            };
            ab = function(a, b, c=za) {
                if (null != a) {
                    if (a instanceof Uint8Array)
                        return b ? a : new Uint8Array(a);
                    if (Array.isArray(a)) {
                        var d = a[_.u] | 0;
                        if (d & 2)
                            return a;
                        b && (b = 0 === d || !!(d & 32) && !(d & 64 || !(d & 16)));
                        return b ? (a[_.u] = (d | 34) & -12293, a) : Ya(a, ab, d & 4 ? za : c, !0, !1, !0)
                    }
                    a.Od === _.Na && (c = a.na, d = c[_.u], a = d & 2 ? a : _.Qa(a.constructor, _.bb(c, d, !0)));
                    return a
                }
            };
            _.bb = function(a, b, c) {
                const d = c || b & 2 ? za : ya,
                    e = !!(b & 32);
                a = Xa(a, b, f => ab(f, e, d));
                a[_.u] = a[_.u] | 32 | (c ? 2 : 0);
                return a
            };
            _.cb = function(a) {
                const b = a.na,
                    c = b[_.u];
                return c & 2 ? _.Qa(a.constructor, _.bb(b, c, !1)) : a
            };
            _.db = function(a, b, c, d, e) {
                var f = Aa(b);
                if (c >= f || e) {
                    e = b;
                    if (b & 256)
                        f = a[a.length - 1];
                    else {
                        if (null == d)
                            return e;
                        f = a[f + (+!!(b & 512) - 1)] = {};
                        e |= 256
                    }
                    f[c] = d;
                    e !== b && (a[_.u] = e);
                    return e
                }
                a[c + (+!!(b & 512) - 1)] = d;
                b & 256 && (a = a[a.length - 1], c in a && delete a[c]);
                return b
            };
            _.eb = function(a, b) {
                return null != a ? a : b
            };
            ib = function(a, b, c) {
                const d = a.constructor.Aa;
                var e = (c ? a.na : b)[_.u],
                    f = Aa(e),
                    g = !1;
                if (d && Va) {
                    if (!c) {
                        b = _.va(b);
                        var h;
                        if (b.length && Da(h = b[b.length - 1]))
                            for (g = 0; g < d.length; g++)
                                if (d[g] >= f) {
                                    Object.assign(b[b.length - 1] = {}, h);
                                    break
                                }
                        g = !0
                    }
                    f = b;
                    c = !c;
                    h = a.na[_.u];
                    a = Aa(h);
                    h = +!!(h & 512) - 1;
                    var k;
                    for (let M = 0; M < d.length; M++) {
                        var l = d[M];
                        if (l < a) {
                            l += h;
                            var n = f[l];
                            null == n ? f[l] = c ? _.fb : xa() : c && n !== _.fb && wa(n)
                        } else {
                            if (!k) {
                                var p = void 0;
                                f.length && Da(p = f[f.length - 1]) ? k = p : f.push(k = {})
                            }
                            n = k[l];
                            null == k[l] ? k[l] = c ? _.fb : xa() : c && n !== _.fb &&
                            wa(n)
                        }
                    }
                }
                k = b.length;
                if (!k)
                    return b;
                let v,
                    r;
                if (Da(p = b[k - 1])) {
                    a:
                    {
                        var z = p;
                        f = {};
                        c = !1;
                        for (var E in z) {
                            a = z[E];
                            if (Array.isArray(a)) {
                                h = a;
                                if (!gb && Ea(a, d, +E) || !hb && Ca(a) && 0 === a.size)
                                    a = null;
                                a != h && (c = !0)
                            }
                            null != a ? f[E] = a : c = !0
                        }
                        if (c) {
                            for (let M in f) {
                                z = f;
                                break a
                            }
                            z = null
                        }
                    }z != p && (v = !0);
                    k--
                }
                for (e = +!!(e & 512) - 1; 0 < k; k--) {
                    E = k - 1;
                    p = b[E];
                    if (!(null == p || !gb && Ea(p, d, E - e) || !hb && Ca(p) && 0 === p.size))
                        break;
                    r = !0
                }
                if (!v && !r)
                    return b;
                var J;
                g ? J = b : J = Array.prototype.slice.call(b, 0, k);
                b = J;
                g && (b.length = k);
                z && b.push(z);
                return b
            };
            _.w = function(a, b) {
                return null != a ? !!a : !!b
            };
            _.x = function(a, b) {
                void 0 == b && (b = "");
                return null != a ? a : b
            };
            _.jb = function(a, b) {
                void 0 == b && (b = 0);
                return null != a ? a : b
            };
            _.lb = function(a, b) {
                let c,
                    d;
                for (let e = 1; e < arguments.length; e++) {
                    d = arguments[e];
                    for (c in d)
                        a[c] = d[c];
                    for (let f = 0; f < kb.length; f++)
                        c = kb[f],
                        Object.prototype.hasOwnProperty.call(d, c) && (a[c] = d[c])
                }
            };
            var ob,
                pb,
                tb,
                ub;
            _.mb = _.mb || {};
            _.q = this || self;
            ob = function(a, b) {
                var c = _.nb("WIZ_global_data.oxN3nb");
                a = c && c[a];
                return null != a ? a : b
            };
            pb = _.q._F_toggles || [];
            _.nb = function(a, b) {
                a = a.split(".");
                b = b || _.q;
                for (var c = 0; c < a.length; c++)
                    if (b = b[a[c]], null == b)
                        return null;
                return b
            };
            _.qb = function(a) {
                var b = typeof a;
                return "object" != b ? b : a ? Array.isArray(a) ? "array" : b : "null"
            };
            _.rb = function(a) {
                var b = typeof a;
                return "object" == b && null != a || "function" == b
            };
            _.sb = "closure_uid_" + (1E9 * Math.random() >>> 0);
            tb = function(a, b, c) {
                return a.call.apply(a.bind, arguments)
            };
            ub = function(a, b, c) {
                if (!a)
                    throw Error();
                if (2 < arguments.length) {
                    var d = Array.prototype.slice.call(arguments, 2);
                    return function() {
                        var e = Array.prototype.slice.call(arguments);
                        Array.prototype.unshift.apply(e, d);
                        return a.apply(b, e)
                    }
                }
                return function() {
                    return a.apply(b, arguments)
                }
            };
            _.y = function(a, b, c) {
                _.y = Function.prototype.bind && -1 != Function.prototype.bind.toString().indexOf("native code") ? tb : ub;
                return _.y.apply(null, arguments)
            };
            _.A = function(a, b) {
                a = a.split(".");
                var c = _.q;
                a[0] in c || "undefined" == typeof c.execScript || c.execScript("var " + a[0]);
                for (var d; a.length && (d = a.shift());)
                    a.length || void 0 === b ? c[d] && c[d] !== Object.prototype[d] ? c = c[d] : c = c[d] = {} : c[d] = b
            };
            _.B = function(a, b) {
                function c() {}
                c.prototype = b.prototype;
                a.W = b.prototype;
                a.prototype = new c;
                a.prototype.constructor = a;
                a.Gi = function(d, e, f) {
                    for (var g = Array(arguments.length - 2), h = 2; h < arguments.length; h++)
                        g[h - 2] = arguments[h];
                    return b.prototype[e].apply(d, g)
                }
            };
            _.B(_.aa, Error);
            _.aa.prototype.name = "CustomError";
            _.vb = String.prototype.trim ? function(a) {
                return a.trim()
            } : function(a) {
                return /^[\s\xa0]*([\s\S]*?)[\s\xa0]*$/.exec(a)[1]
            };
            var wb = !!(pb[0] & 128),
                xb = !!(pb[0] & 4),
                yb = !!(pb[0] & 256),
                zb = !!(pb[0] & 2);
            var ca = wb ? yb : ob(610401301, !1),
                Ab = wb ? xb || !zb : ob(572417392, !0);
            var da,
                Bb = _.q.navigator;
            da = Bb ? Bb.userAgentData || null : null;
            _.ra = function(a, b) {
                return Array.prototype.indexOf.call(a, b, void 0)
            };
            _.Cb = function(a, b, c) {
                Array.prototype.forEach.call(a, b, c)
            };
            _.Db = function(a) {
                _.Db[" "](a);
                return a
            };
            _.Db[" "] = function() {};
            var Rb,
                Sb,
                Xb;
            _.Eb = _.ha();
            _.C = _.ia();
            _.Fb = _.t("Edge");
            _.Gb = _.Fb || _.C;
            _.Hb = _.t("Gecko") && !(-1 != _.ba().toLowerCase().indexOf("webkit") && !_.t("Edge")) && !(_.t("Trident") || _.t("MSIE")) && !_.t("Edge");
            _.Ib = -1 != _.ba().toLowerCase().indexOf("webkit") && !_.t("Edge");
            _.Jb = _.qa();
            _.Kb = na() ? "Windows" === da.platform : _.t("Windows");
            _.Mb = na() ? "Android" === da.platform : _.t("Android");
            _.Nb = oa();
            _.Ob = _.t("iPad");
            _.Pb = _.t("iPod");
            _.Qb = _.pa();
            Rb = function() {
                var a = _.q.document;
                return a ? a.documentMode : void 0
            };
            a:
            {
                var Tb = "",
                    Ub = function() {
                        var a = _.ba();
                        if (_.Hb)
                            return /rv:([^\);]+)(\)|;)/.exec(a);
                        if (_.Fb)
                            return /Edge\/([\d\.]+)/.exec(a);
                        if (_.C)
                            return /\b(?:MSIE|rv)[: ]([^\);]+)(\)|;)/.exec(a);
                        if (_.Ib)
                            return /WebKit\/(\S+)/.exec(a);
                        if (_.Eb)
                            return /(?:Version)[ \/]?(\S+)/.exec(a)
                    }();
                Ub && (Tb = Ub ? Ub[1] : "");
                if (_.C) {
                    var Vb = Rb();
                    if (null != Vb && Vb > parseFloat(Tb)) {
                        Sb = String(Vb);
                        break a
                    }
                }
                Sb = Tb
            }_.Wb = Sb;
            if (_.q.document && _.C) {
                var Yb = Rb();
                Xb = Yb ? Yb : parseInt(_.Wb, 10) || void 0
            } else
                Xb = void 0;
            _.Zb = Xb;
            _.$b = _.ja();
            _.ac = oa() || _.t("iPod");
            _.bc = _.t("iPad");
            _.cc = _.ma();
            _.dc = ka();
            _.ec = _.la() && !_.pa();
            var hb = !Ab,
                gb = !Ab;
            _.fc = "undefined" !== typeof TextDecoder;
            _.gc = "undefined" !== typeof TextEncoder;
            _.u = Symbol();
            var Ba,
                hc,
                Va,
                ic,
                jc,
                kc;
            _.Na = {};
            Ba = {};
            Va = !Ab;
            ic = [];
            ic[_.u] = 55;
            _.fb = Object.freeze(ic);
            jc = class {}
            ;
            kc = class {}
            ;
            Object.freeze(new jc);
            Object.freeze(new kc);
            var Pa;
            _.mc = function(a, b) {
                a = a.na;
                return _.lc(a, a[_.u], b)
            };
            _.lc = function(a, b, c, d) {
                if (-1 === c)
                    return null;
                if (c >= Aa(b)) {
                    if (b & 256)
                        return a[a.length - 1][c]
                } else {
                    var e = a.length;
                    if (d && b & 256 && (d = a[e - 1][c], null != d))
                        return d;
                    b = c + (+!!(b & 512) - 1);
                    if (b < e)
                        return a[b]
                }
            };
            _.nc = function(a, b, c) {
                const d = a.na;
                let e = d[_.u];
                _.Fa(e);
                _.db(d, e, b, c);
                return a
            };
            _.D = function(a, b) {
                a = _.mc(a, b);
                return null == a || "boolean" === typeof a ? a : "number" === typeof a ? !!a : void 0
            };
            _.oc = function(a, b, c, d) {
                a = a.na;
                let e = a[_.u];
                const f = _.lc(a, e, c, d);
                b = _.Oa(f, b, e);
                b !== f && null != b && _.db(a, e, c, b, d);
                return b
            };
            _.F = function(a, b, c, d=!1) {
                b = _.oc(a, b, c, d);
                if (null == b)
                    return b;
                a = a.na;
                let e = a[_.u];
                if (!(e & 2)) {
                    const f = _.cb(b);
                    f !== b && (b = f, _.db(a, e, c, b, d))
                }
                return b
            };
            _.G = function(a, b, c) {
                null == c && (c = void 0);
                return _.nc(a, b, c)
            };
            _.H = function(a, b) {
                return _.Ma(_.mc(a, b))
            };
            _.I = function(a, b) {
                return _.eb(_.D(a, b), !1)
            };
            _.pc = function(a, b, c=0) {
                a = a.na;
                let d = a[_.u];
                const e = _.lc(a, d, b);
                var f = null == e || "number" === typeof e ? e : "NaN" === e || "Infinity" === e || "-Infinity" === e ? Number(e) : void 0;
                null != f && f !== e && _.db(a, d, b, f);
                return _.eb(f, c)
            };
            _.K = function(a, b) {
                return _.eb(_.H(a, b), "")
            };
            _.L = function(a, b, c) {
                if (null != c && "boolean" !== typeof c)
                    throw Error("q`" + _.qb(c) + "`" + c);
                return _.nc(a, b, c)
            };
            _.N = function(a, b, c) {
                return _.nc(a, b, null == c ? c : _.Ka(c))
            };
            _.O = function(a, b, c) {
                return _.nc(a, b, _.La(c))
            };
            _.P = function(a, b, c) {
                return _.nc(a, b, null == c ? c : _.Ja(c))
            };
            _.Q = class {
                constructor(a, b, c)
                {
                    this.na = _.Sa(a, b, c)
                }
                toJSON()
                {
                    if (hc)
                        var a = ib(this, this.na, !1);
                    else
                        a = Ya(this.na, $a, void 0, void 0, !1, !1),
                        a = ib(this, a, !0);
                    return a
                }
                Ia()
                {
                    hc = !0;
                    try {
                        return JSON.stringify(this.toJSON(), Ua)
                    } finally {
                        hc = !1
                    }
                }
                zc()
                {
                    return !!((this.na[_.u] | 0) & 2)
                }
            }
            ;
            _.Q.prototype.Od = _.Na;
            _.Q.prototype.toString = function() {
                return ib(this, this.na, !1).toString()
            };
            _.qc = Symbol();
            _.rc = Symbol();
            _.sc = Symbol();
            _.tc = Symbol();
            _.uc = Symbol();
            var vc = class  extends _.Q{
                constructor()
                {
                    super()
                }
            }
            ;
            _.wc = class  extends _.Q{
                constructor()
                {
                    super()
                }
                yd(a)
                {
                    return _.N(this, 3, a)
                }
            }
            ;
            var xc = class  extends _.Q{
                constructor(a)
                {
                    super(a)
                }
            }
            ;
            var yc = class  extends _.Q{
                constructor(a)
                {
                    super(a)
                }
                Rc(a)
                {
                    return _.O(this, 24, a)
                }
            }
            ;
            _.zc = class  extends _.Q{
                constructor(a)
                {
                    super(a)
                }
            }
            ;
            _.Ac = function() {
                this.Ga = this.Ga;
                this.oa = this.oa
            };
            _.Ac.prototype.Ga = !1;
            _.Ac.prototype.isDisposed = function() {
                return this.Ga
            };
            _.Ac.prototype.qa = function() {
                this.Ga || (this.Ga = !0, this.O())
            };
            _.Ac.prototype.O = function() {
                if (this.oa)
                    for (; this.oa.length;)
                        this.oa.shift()()
            };
            var Bc = class  extends _.Ac{
                constructor()
                {
                    var a = window;
                    super();
                    this.o = a;
                    this.i = [];
                    this.j = {}
                }
                resolve(a)
                {
                    var b = this.o;
                    a = a.split(".");
                    for (var c = a.length, d = 0; d < c; ++d)
                        if (b[a[d]])
                            b = b[a[d]];
                        else
                            return null;
                    return b instanceof Function ? b : null
                }
                Yb()
                {
                    for (var a = this.i.length, b = this.i, c = [], d = 0; d < a; ++d) {
                        var e = b[d].i(),
                            f = this.resolve(e);
                        if (f && f != this.j[e])
                            try {
                                b[d].Yb(f)
                            } catch (g) {}
                        else
                            c.push(b[d])
                    }
                    this.i = c.concat(b.slice(a))
                }
            }
            ;
            var Dc = class  extends _.Ac{
                constructor()
                {
                    var a = _.Cc;
                    super();
                    this.o = a;
                    this.A = this.i = null;
                    this.v = 0;
                    this.B = {};
                    this.j = !1;
                    a = window.navigator.userAgent;
                    0 <= a.indexOf("MSIE") && 0 <= a.indexOf("Trident") && (a = /\b(?:MSIE|rv)[: ]([^\);]+)(\)|;)/.exec(a)) && a[1] && 9 > parseFloat(a[1]) && (this.j = !0)
                }
                C(a, b)
                {
                    this.i = b;
                    this.A = a;
                    b.preventDefault ? b.preventDefault() : b.returnValue = !1
                }
            }
            ;
            _.Ec = class  extends _.Q{
                constructor(a)
                {
                    super(a)
                }
            }
            ;
            var Fc = class  extends _.Q{
                constructor(a)
                {
                    super(a)
                }
            }
            ;
            var Hc;
            _.Gc = function(a, b) {
                if (a.i) {
                    const c = new vc;
                    _.O(c, 1, b.message);
                    _.O(c, 2, b.stack);
                    _.N(c, 3, b.lineNumber);
                    _.P(c, 5, 1);
                    b = new _.wc;
                    _.G(b, 40, c);
                    a.i.log(98, b)
                }
            };
            Hc = class {
                constructor()
                {
                    this.i = null
                }
                log(a)
                {
                    _.Gc(this, a)
                }
            }
            ;
            var Kc,
                Lc,
                Oc,
                Qc;
            _.Ic = class {
                constructor(a)
                {
                    this.i = a
                }
                toString()
                {
                    return this.i.toString()
                }
            }
            ;
            _.Ic.prototype.Cb = !0;
            _.Ic.prototype.qb = function() {
                return this.i.toString()
            };
            _.Jc = function(a) {
                return a instanceof _.Ic && a.constructor === _.Ic ? a.i : "type_error:SafeUrl"
            };
            Kc = /^data:(.*);base64,[a-z0-9+\/]+=*$/i;
            Lc = /^(?:(?:https?|mailto|ftp):|[^:/?#]*(?:[/?#]|$))/i;
            _.Nc = function(a) {
                if (a instanceof _.Ic)
                    return a;
                a = "object" == typeof a && a.Cb ? a.qb() : String(a);
                Lc.test(a) ? a = _.Mc(a) : (a = String(a).replace(/(%0A|%0D)/g, ""), a = a.match(Kc) ? _.Mc(a) : null);
                return a
            };
            try {
                new URL("s://g"),
                Oc = !0
            } catch (a) {
                Oc = !1
            }
            _.Pc = Oc;
            Qc = {};
            _.Mc = function(a) {
                return new _.Ic(a, Qc)
            };
            _.Rc = _.Mc("about:invalid#zClosurez");
            var Sc,
                Vc,
                Uc;
            _.Tc = function(a) {
                let b;
                b = window.google && window.google.logUrl ? "" : "https://www.google.com";
                b += "/gen_204?use_corp=on&";
                b += a.Ia(2040 - b.length);
                Sc(_.Nc(b) || _.Rc)
            };
            Sc = function(a) {
                var b = new Image,
                    c = Uc;
                b.onerror = b.onload = b.onabort = function() {
                    c in Vc && delete Vc[c]
                };
                Vc[Uc++] = b;
                b.src = _.Jc(a)
            };
            Vc = [];
            Uc = 0;
            _.Wc = class {
                constructor()
                {
                    this.data = {}
                }
                Ia(a)
                {
                    var b = [],
                        c;
                    for (c in this.data)
                        b.push(encodeURIComponent(c) + "=" + encodeURIComponent(String(this.data[c])));
                    return ("atyp=i&zx=" + (new Date).getTime() + "&" + b.join("&")).substr(0, a)
                }
            }
            ;
            var Xc = class  extends _.Wc{
                constructor(a)
                {
                    super();
                    var b = _.F(a, xc, 8) || new xc;
                    window.google && window.google.kEI && (this.data.ei = window.google.kEI);
                    this.data.sei = _.x(_.H(a, 10));
                    this.data.ogf = _.x(_.H(b, 3));
                    this.data.ogrp = (window.google && window.google.sn ? !/.*hp$/.test(window.google.sn) : _.w(_.D(a, 7))) ? "1" : "";
                    this.data.ogv = _.x(_.H(b, 6)) + "." + _.x(_.H(b, 7));
                    this.data.ogd = _.x(_.H(a, 21));
                    this.data.ogc = _.x(_.H(a, 20));
                    this.data.ogl = _.x(_.H(a, 5));
                    this.data.oggv = "quantum:gapiBuildLabel"
                }
            }
            ;
            var kb = "constructor hasOwnProperty isPrototypeOf propertyIsEnumerable toLocaleString toString valueOf".split(" ");
            var Yc = [1, 2, 3, 4, 5, 6, 9, 10, 11, 13, 14, 28, 29, 30, 34, 35, 37, 38, 39, 40, 42, 43, 48, 49, 50, 51, 52, 53, 62, 500],
                $c = function(a) {
                    if (!Zc) {
                        Zc = {};
                        for (var b = 0; b < Yc.length; b++)
                            Zc[Yc[b]] = !0
                    }
                    return !!Zc[a]
                },
                ad = function(a) {
                    a = String(a);
                    return a.replace(".", "%2E").replace(",", "%2C")
                },
                bd = class  extends Xc{
                    constructor(a, b, c, d, e)
                    {
                        super(a);
                        _.lb(this.data, {
                            oge: c,
                            ogex: _.x(_.H(a, 9)),
                            ogp: _.x(_.H(a, 6)),
                            ogsr: Math.round(1 / ($c(c) ? _.jb(_.pc(b, 3, 1)) : _.jb(_.pc(b, 2, 1E-4)))),
                            ogus: d
                        });
                        if (e) {
                            "ogw" in e && (this.data.ogw = e.ogw, delete e.ogw);
                            "ved" in e &&
                            (this.data.ved = e.ved, delete e.ved);
                            a = [];
                            for (var f in e)
                                0 != a.length && a.push(","),
                                a.push(ad(f)),
                                a.push("."),
                                a.push(ad(e[f]));
                            e = a.join("");
                            "" != e && (this.data.ogad = e)
                        }
                    }
                }
                ,
                Zc = null;
            var cd = class  extends _.Q{
                constructor(a)
                {
                    super(a)
                }
            }
            ;
            var gd = class {
                constructor()
                {
                    var a = dd,
                        b = ed,
                        c = fd;
                    this.i = a;
                    this.v = b;
                    this.o = _.jb(_.pc(a, 2, 1E-4), 1E-4);
                    this.B = _.jb(_.pc(a, 3, 1), 1);
                    b = Math.random();
                    this.j = _.w(_.D(a, 1)) && b < this.o;
                    this.A = _.w(_.D(a, 1)) && b < this.B;
                    a = 0;
                    _.w(_.D(c, 1)) && (a |= 1);
                    _.w(_.D(c, 2)) && (a |= 2);
                    _.w(_.D(c, 3)) && (a |= 4);
                    this.C = a
                }
                log(a, b)
                {
                    try {
                        if ($c(a) ? this.A : this.j) {
                            const c = new bd(this.v, this.i, a, this.C, b);
                            _.Tc(c)
                        }
                    } catch (c) {}
                }
            }
            ;
            var jd;
            _.hd = function(a) {
                if (0 < a.j.length) {
                    var b = void 0 !== a.va,
                        c = void 0 !== a.i;
                    if (b || c) {
                        b = b ? a.o : a.v;
                        c = a.j;
                        a.j = [];
                        try {
                            _.Cb(c, b, a)
                        } catch (d) {
                            console.error(d)
                        }
                    }
                }
            };
            _.kd = class {
                constructor(a)
                {
                    this.va = a;
                    this.i = void 0;
                    this.j = []
                }
                then(a, b, c)
                {
                    this.j.push(new jd(a, b, c));
                    _.hd(this)
                }
                resolve(a)
                {
                    if (void 0 !== this.va || void 0 !== this.i)
                        throw Error("v");
                    this.va = a;
                    _.hd(this)
                }
                o(a)
                {
                    a.j && a.j.call(a.i, this.va)
                }
                v(a)
                {
                    a.o && a.o.call(a.i, this.i)
                }
            }
            ;
            jd = class {
                constructor(a, b, c)
                {
                    this.j = a;
                    this.o = b;
                    this.i = c
                }
            }
            ;
            _.ld = a => {
                var b = "xc";
                if (a.xc && a.hasOwnProperty(b))
                    return a.xc;
                b = new a;
                return a.xc = b
            };
            _.md = class {
                constructor()
                {
                    this.v = new _.kd;
                    this.i = new _.kd;
                    this.D = new _.kd;
                    this.B = new _.kd;
                    this.C = new _.kd;
                    this.A = new _.kd;
                    this.o = new _.kd;
                    this.j = new _.kd;
                    this.H = new _.kd
                }
                K()
                {
                    return this.v
                }
                M()
                {
                    return this.i
                }
                N()
                {
                    return this.D
                }
                L()
                {
                    return this.B
                }
                Ga()
                {
                    return this.C
                }
                oa()
                {
                    return this.A
                }
                J()
                {
                    return this.o
                }
                G()
                {
                    return this.j
                }
                static i()
                {
                    return _.ld(_.md)
                }
            }
            ;
            var rd;
            _.od = function() {
                return _.F(_.nd, yc, 1)
            };
            _.pd = function() {
                return _.F(_.nd, _.zc, 5)
            };
            rd = class  extends _.Q{
                constructor()
                {
                    super(qd)
                }
            }
            ;
            var qd;
            window.gbar_ && window.gbar_.CONFIG ? qd = window.gbar_.CONFIG[0] || {} : qd = [];
            _.nd = new rd;
            var ed,
                fd,
                dd;
            _.F(_.nd, Fc, 3) || new Fc;
            _.od() || new yc;
            _.Cc = new Hc;
            ed = _.od() || new yc;
            fd = _.pd() || new _.zc;
            dd = _.F(_.nd, cd, 4) || new cd;
            new gd;
            _.A("gbar_._DumpException", function(a) {
                _.Cc ? _.Cc.log(a) : console.error(a)
            });
            _.sd = new Dc;
            var ud;
            _.vd = function(a, b) {
                var c = _.td.i();
                if (a in c.i) {
                    if (c.i[a] != b)
                        throw new ud;
                } else {
                    c.i[a] = b;
                    if (b = c.j[a])
                        for (let d = 0, e = b.length; d < e; d++)
                            b[d].i(c.i, a);
                    delete c.j[a]
                }
            };
            _.td = class {
                constructor()
                {
                    this.i = {};
                    this.j = {}
                }
                static i()
                {
                    return _.ld(_.td)
                }
            }
            ;
            _.wd = class  extends _.aa{
                constructor()
                {
                    super()
                }
            }
            ;
            ud = class  extends _.wd{}
            ;
            _.A("gbar.A", _.kd);
            _.kd.prototype.aa = _.kd.prototype.then;
            _.A("gbar.B", _.md);
            _.md.prototype.ba = _.md.prototype.M;
            _.md.prototype.bb = _.md.prototype.N;
            _.md.prototype.bd = _.md.prototype.Ga;
            _.md.prototype.bf = _.md.prototype.K;
            _.md.prototype.bg = _.md.prototype.L;
            _.md.prototype.bh = _.md.prototype.oa;
            _.md.prototype.bj = _.md.prototype.J;
            _.md.prototype.bk = _.md.prototype.G;
            _.A("gbar.a", _.md.i());
            var xd = new Bc;
            _.vd("api", xd);
            var yd = _.pd() || new _.zc;
            window.__PVT = _.x(_.H(yd, 8));
            _.vd("eq", _.sd);
        } catch (e) {
            _._DumpException(e)
        }
        try {
            _.zd = class  extends _.Q{
                constructor(a)
                {
                    super(a)
                }
            }
            ;
        } catch (e) {
            _._DumpException(e)
        }
        try {
            var Ad = class  extends _.Q{
                constructor()
                {
                    super()
                }
            }
            ;
            var Bd = class  extends _.Ac{
                constructor()
                {
                    super();
                    this.j = [];
                    this.i = []
                }
                o(a, b)
                {
                    this.j.push({
                        features: a,
                        options: b
                    })
                }
                init(a, b, c)
                {
                    window.gapi = {};
                    var d = window.___jsl = {};
                    d.h = _.x(_.H(a, 1));
                    null != _.D(a, 12) && (d.dpo = _.w(_.I(a, 12)));
                    d.ms = _.x(_.H(a, 2));
                    d.m = _.x(_.H(a, 3));
                    d.l = [];
                    _.K(b, 1) && (a = _.H(b, 3)) && this.i.push(a);
                    _.K(c, 1) && (c = _.H(c, 2)) && this.i.push(c);
                    _.A("gapi.load", (0, _.y)(this.o, this));
                    return this
                }
            }
            ;
            var Cd = _.F(_.nd, _.Ec, 14);
            if (Cd) {
                var Dd = _.F(_.nd, _.zd, 9) || new _.zd,
                    Ed = new Ad,
                    Fd = new Bd;
                Fd.init(Cd, Dd, Ed);
                _.vd("gs", Fd)
            }
            ;
        } catch (e) {
            _._DumpException(e)
        }
    })(this.gbar_);
    // Google Inc.
    </script>
    <script nonce="w3myJk73RRGzEs4QxLsk6A==">
    try {
        const preferences = JSON.parse(window.localStorage.getItem("datalab_prefs_russel.rk@gmail.com"));
        document.querySelector('html').setAttribute('theme', preferences['siteTheme'] || 'default');
    } catch (e) {}
    </script>
    <script nonce="w3myJk73RRGzEs4QxLsk6A==">
    window.performance.mark('head_start');
    </script>
    <script src="https://ssl.gstatic.com/colaboratory-static/common/b124d179c25e30ffc6a1ff293e85eba8/common%2Fwebcomponentsjs%2Fwebcomponents-lite.js" nonce="w3myJk73RRGzEs4QxLsk6A=="></script>
    <script src="https://ssl.gstatic.com/colaboratory-static/common/b124d179c25e30ffc6a1ff293e85eba8/common%2Fwebanimationsjs%2Fweb-animations-next-lite.min.js" nonce="w3myJk73RRGzEs4QxLsk6A=="></script>
    <script nonce="w3myJk73RRGzEs4QxLsk6A==">
    var colabVersionTag = 'colab_20231219-060136_RC00_592175853';
    var colabScsVersion = 'b124d179c25e30ffc6a1ff293e85eba8';
    var hl = 'en';
    var colabExperiments = JSON.parse('\x7b\x22ai_unsubscribed_warning\x22: true, \x22aida_cell_button\x22: false, \x22aida_complete_code_model_id\x22: \x22\x22, \x22aida_do_conversation_model_id\x22: \x22\x22, \x22aida_generate_code_model_id\x22: \x22\x22, \x22aida_in_editor\x22: false, \x22allowed_public_url_domains\x22: \x5b\x22huggingface.co\x22, \x22dagshub.com\x22, \x22storage.googleapis.com\x22\x5d, \x22backend_version\x22: \x22next\x22, \x22big_left_icons\x22: true, \x22bq_tid\x22: true, \x22cell_tags\x22: false, \x22chat\x22: true, \x22classified_generate\x22: false, \x22classroom_iframe_parent_origin\x22: \x22\x22, \x22client_text_compose\x22: false, \x22client_trim_completion_text\x22: 100, \x22cloud_origin\x22: \x22\x22, \x22commands_in_toolbar\x22: false, \x22comment_poll_long\x22: 900000, \x22comment_poll_short\x22: 60000, \x22converse_temp\x22: \x22\x22, \x22crawler\x22: false, \x22critique_comments\x22: false, \x22dbu\x22: \x22\x22, \x22debug_external\x22: \x22external\x22, \x22debug_prod\x22: \x22prod\x22, \x22development\x22: false, \x22document_change_poll_interval\x22: 30000, \x22drive_anon_api_key\x22: \x22AIzaSyB10s2vWUTwP0pj20wZoxmpZIt3rRodYeg\x22, \x22drive_api_key\x22: \x22AIzaSyCN_sSPJMpYrAzC5AtTrltNC8oRmLtoqBk\x22, \x22drive_background_save_project_number\x22: \x22948411933973\x22, \x22drive_realtime_project_number\x22: \x22\x22, \x22embedded_connection_poll\x22: false, \x22embedding_app\x22: \x22\x22, \x22enable_adhoc_backends\x22: false, \x22explain_cell\x22: false, \x22explain_error\x22: true, \x22external_trusted_github_org_repos_quick_add\x22: \x22GoogleChrome\/CrUX,google\/generative-ai-docs\x22, \x22first_party_auth\x22: true, \x22generate_code\x22: true, \x22generate_code_prompt\x22: true, \x22generate_df\x22: true, \x22generate_fix\x22: true, \x22generate_temp\x22: \x22\x22, \x22get_started\x22: false, \x22gis_auth\x22: true, \x22github_client_id\x22: \x225036cf6d81e65aaa6340\x22, \x22gpu_utilization_check_interval_ms\x22: 600000, \x22hats_surveys\x22: true, \x22hrc\x22: false, \x22import_data\x22: false, \x22internal_schedule\x22: false, \x22is_prober\x22: false, \x22jsraw\x22: \x22compiled\x22, \x22key_promoter\x22: false, \x22local_cloud_apis\x22: false, \x22local_service_worker\x22: false, \x22log_hover_type\x22: false, \x22lsp_diagnostics_reporting\x22: false, \x22lsrp\x22: 0, \x22ml_banner\x22: false, \x22ml_enabled\x22: true, \x22ml_suggest_on_empty_lines\x22: true, \x22mlpp\x22: false, \x22mlpp_multiline\x22: false, \x22mlpp_on_by_default\x22: true, \x22mlpp_trim_completion_text\x22: 100, \x22mobile\x22: false, \x22next_steps\x22: false, \x22no_fun\x22: false, \x22og_dark\x22: false, \x22outage_notification\x22: \x22\x22, \x22outage_notification_link\x22: \x22\x22, \x22outputframe_version\x22: \x22\x22, \x22override_suf_params_for_test\x22: false, \x22quickchart_button\x22: true, \x22recaptcha_polling_frequency_ms\x22: 300000, \x22recaptcha_v2_site_key\x22: \x226LfQttQUAAAAADuPanA_VZMaZgBAOnHZNuuqUewp\x22, \x22recaptcha_v3_site_key\x22: \x226LfQPtEUAAAAAHBpAdFng54jyuB1V5w5dofknpip\x22, \x22reconnect_max_delay_seconds\x22: 300, \x22require_ai_consent\x22: true, \x22resource_poll_interval_ms\x22: 10000, \x22rp_kxhr\x22: false, \x22rp_lsp\x22: false, \x22rp_serve_kernel_port\x22: false, \x22rp_term\x22: false, \x22rp_token_refresh_headroom_millis\x22: 300000, \x22rt\x22: false, \x22runtime_env_overrides\x22: \x22\\n          \x5b\\n            \x5b\\\x22ENABLE_DIRECTORYPREFETCHER\\\x22, \\\x221\\\x22\x5d\\n          \x5d\\n        \x22, \x22runtime_type_for_test\x22: \x22\x22, \x22server_execution_queue\x22: true, \x22session_resume_coalesce\x22: true, \x22sheets_paste\x22: true, \x22show_payments_interstitial\x22: false, \x22show_relnotes_on_open\x22: true, \x22show_signup_survey\x22: true, \x22show_subscription_renewal_time\x22: false, \x22show_switch_to_prod_link\x22: false, \x22sql_cell\x22: false, \x22sql_cell_buttons\x22: false, \x22storage_partition_trial\x22: true, \x22storage_partition_trial_token\x22: \x22AmUpB2+Hlwk73pYiEMbnkef\/dprJi1I9rClec33apyFsbVOaCIRN29Rk9M4ht5Otgbp+thCc3MMD73GyCNfEWAkAAAB3eyJvcmlnaW4iOiJodHRwczovL2NvbGFiLnJlc2VhcmNoLmdvb2dsZS5jb206NDQzIiwiZmVhdHVyZSI6IkRpc2FibGVUaGlyZFBhcnR5U3RvcmFnZVBhcnRpdGlvbmluZyIsImV4cGlyeSI6MTcyNTQwNzk5OX0\x3d\x22, \x22suspicious_code_matches\x22: \x22\x22, \x22suspicious_code_regexs\x22: \x22\x22, \x22svg_run_button\x22: true, \x22term4all\x22: false, \x22text_compose_report_changes_millis\x22: 10000, \x22text_span_comments\x22: false, \x22unified_compose\x22: false, \x22unmanaged_vm_min_label_block\x22: \x22\x22, \x22unmanaged_vm_min_label_warn\x22: \x22\x22, \x22unmanaged_vm_min_release_tag_block\x22: \x22\x22, \x22unmanaged_vm_min_release_tag_warn\x22: \x22\x22, \x22use_corplogin\x22: true, \x22use_dm_sql_lsp\x22: false, \x22uxr_survey\x22: false, \x22verbose_warnings\x22: false, \x22vertex_autopush\x22: false, \x22vertex_staging\x22: false, \x22waffle\x22: false, \x22workstations\x22: false, \x22ids\x22: \x5b20730150, 20730159, 20730129, 20730177\x5d, \x22flag_ids\x22: \x7b\x22ai_unsubscribed_warning\x22: 45504730, \x22aida_cell_button\x22: 45425510, \x22aida_complete_code_model_id\x22: 45427660, \x22aida_do_conversation_model_id\x22: 45427664, \x22aida_generate_code_model_id\x22: 45427663, \x22aida_in_editor\x22: 45425507, \x22allowed_public_url_domains\x22: 45425558, \x22backend_version\x22: 45425541, \x22big_left_icons\x22: 45459615, \x22bq_tid\x22: 45425617, \x22cell_tags\x22: 45425779, \x22chat\x22: 45425490, \x22classified_generate\x22: 45425499, \x22classroom_iframe_parent_origin\x22: 45425537, \x22client_text_compose\x22: 45425512, \x22client_trim_completion_text\x22: 45425628, \x22cloud_origin\x22: 45425538, \x22commands_in_toolbar\x22: 45425502, \x22comment_poll_long\x22: 45425588, \x22comment_poll_short\x22: 45425587, \x22converse_temp\x22: 45425509, \x22crawler\x22: 45425491, \x22critique_comments\x22: 45612076, \x22dbu\x22: 45425545, \x22debug_external\x22: 45425470, \x22debug_prod\x22: 45425471, \x22development\x22: 45425544, \x22document_change_poll_interval\x22: 45425589, \x22drive_anon_api_key\x22: 45425478, \x22drive_api_key\x22: 45425473, \x22drive_background_save_project_number\x22: 45425479, \x22drive_realtime_project_number\x22: 45425629, \x22embedded_connection_poll\x22: 45491618, \x22enable_adhoc_backends\x22: 45425506, \x22explain_cell\x22: 45425505, \x22explain_error\x22: 45425487, \x22external_trusted_github_org_repos_quick_add\x22: 45425555, \x22first_party_auth\x22: 45425560, \x22generate_code\x22: 45425492, \x22generate_code_prompt\x22: 45425488, \x22generate_df\x22: 45425503, \x22generate_fix\x22: 45425504, \x22generate_temp\x22: 45425508, \x22get_started\x22: 45430267, \x22gis_auth\x22: 45425625, \x22github_client_id\x22: 45425556, \x22gpu_utilization_check_interval_ms\x22: 45425561, \x22hats_surveys\x22: 45425559, \x22import_data\x22: 45430411, \x22internal_schedule\x22: 45425578, \x22is_prober\x22: 45429104, \x22jsraw\x22: 45425557, \x22key_promoter\x22: 45425570, \x22local_cloud_apis\x22: 45425630, \x22local_service_worker\x22: 45425550, \x22log_hover_type\x22: 45425602, \x22lsp_diagnostics_reporting\x22: 45425604, \x22lsrp\x22: 45425612, \x22ml_banner\x22: 45425631, \x22ml_enabled\x22: 45425493, \x22ml_suggest_on_empty_lines\x22: 45462092, \x22mlpp\x22: 45425608, \x22mlpp_multiline\x22: 45425623, \x22mlpp_on_by_default\x22: 45425609, \x22mlpp_trim_completion_text\x22: 45425622, \x22mobile\x22: 45425562, \x22next_steps\x22: 45428239, \x22no_fun\x22: 45425540, \x22og_dark\x22: 45459627, \x22outage_notification\x22: 45425584, \x22outage_notification_link\x22: 45425585, \x22outputframe_version\x22: 45425591, \x22override_suf_params_for_test\x22: 45425592, \x22quickchart_button\x22: 45425501, \x22recaptcha_polling_frequency_ms\x22: 45425582, \x22recaptcha_v2_site_key\x22: 45425581, \x22recaptcha_v3_site_key\x22: 45425580, \x22reconnect_max_delay_seconds\x22: 45425539, \x22require_ai_consent\x22: 45425489, \x22resource_poll_interval_ms\x22: 45425590, \x22rp_kxhr\x22: 45491686, \x22rp_lsp\x22: 45462965, \x22rp_serve_kernel_port\x22: 45572083, \x22rp_term\x22: 45426219, \x22rp_token_refresh_headroom_millis\x22: 45517773, \x22rt\x22: 45425624, \x22runtime_env_overrides\x22: 45425583, \x22runtime_type_for_test\x22: 45425586, \x22server_execution_queue\x22: 45425600, \x22session_resume_coalesce\x22: 45425603, \x22sheets_paste\x22: 45428502, \x22show_payments_interstitial\x22: 45425543, \x22show_relnotes_on_open\x22: 45428128, \x22show_signup_survey\x22: 45425620, \x22show_subscription_renewal_time\x22: 45425569, \x22show_switch_to_prod_link\x22: 45425483, \x22sql_cell\x22: 45425497, \x22sql_cell_buttons\x22: 45425498, \x22suspicious_code_matches\x22: 45425615, \x22suspicious_code_regexs\x22: 45425616, \x22svg_run_button\x22: 45517768, \x22term4all\x22: 45425542, \x22text_compose_report_changes_millis\x22: 45425568, \x22text_span_comments\x22: 45545873, \x22unified_compose\x22: 45425627, \x22unmanaged_vm_min_label_block\x22: 45425546, \x22unmanaged_vm_min_label_warn\x22: 45425547, \x22unmanaged_vm_min_release_tag_block\x22: 45425548, \x22unmanaged_vm_min_release_tag_warn\x22: 45425549, \x22use_corplogin\x22: 45425606, \x22use_dm_sql_lsp\x22: 45425610, \x22uxr_survey\x22: 45425618, \x22verbose_warnings\x22: 45425551, \x22vertex_autopush\x22: 45425613, \x22vertex_staging\x22: 45425614, \x22waffle\x22: 45446491, \x22workstations\x22: 45425626\x7d\x7d');
    var colabUserEmail = 'russel.rk@gmail.com';
    var colabRenderDataToken = 'AFWLbD2VMLz_L-u3udTBXwCDVgvz0TajO4HrtH2owUn2cuL595yzg8jFZ37lGhm8Mhsph8hR7DDHjci4HbCDNgdkXyFibTvYAGSl';
    var colabConfig = '\x5b\x5b\x22russel.rk@gmail.com\x22,\x5b1,\x22AHXL0D36+3aQNDhsT0NWtKm4d8+g0Rnu\/68\/V5Bgaw\/UzAdFnYPZck0hJFbm4RN6W7dcw\/7sN4N859E\/UyhnElkxie6vtL+ySjXUnq1uVX+ViZfxaRdBab\/OYaB6ZYKlXIWusWuB\/IWTisvAxKl8Rqetx89T8dRt\/ajgNC9SoFeWA5Ns0Y5Z2WhWbRxNvfNqzWQFusKlk1ir4DPd8pfasBbJ0bIOxs2nKmkW2\/lUJoAWzJARrg3jd9nLK9z1vqVkAWk5OG35QLFrjINMceoav17V67nyj0AyL7c1CtTM07mSTPcZ10V7OHKL4T0HeJ3Z\/m14bei6Nk\/QykSt+pN8z8xbekX7kJ5D6aXgLXiiK3dmtiLTCGO0y2tSoeR1BA14VRj8pJQiF8RyLapL5jEbY8zgKPve2Mw4w4iKi7qpgPiN66adRGWYTIY3cEWi4uPRf6TEqEUOWs3pEkXVWO9vkDxODX1a01nynqk+ulceevcgW0BHbb\/MpQ3SUz2vPd1j8EiVlHXGur0u8WD2YzWQR+b4gd8bwft1lmqJwNMMdLU5DBrYXGLQx5t17csp57HjCE\/8v2K5eXWKBDL\/QEt3nrb+BQ3heUkKv\/fIXGyjUHDUjzH2i2SCy0mbN6wcZboLexjkgDUhI\/Gg2euQGJQ7IJefhyMmKUnruVFOOpb\/tjwXif9BHpl+dg5h8ocJ+zHAQm4fM36CGAaJs7Yt4pveS86WiWXe6KHFapuw+V9dDC56LvcbUdernkUHGS2tjKdAzmdZOJPLx+Gaoro8iKXueIETlCN5L9iUyEndwI6svq34Fj+ii01Z8jLMC\/m3g7eq2HYkHuagGRkm31VHN8ugdU\/8vuUWe8MTJc2dhugC5JpKtoq8Zl+lnewcYv1Ki0XuztfUhTt+yhPBOxHiMeBVs5HFRT9IfnubT\/N9DFiY5ubPEIqz7cMGgWxKjMYnY2QO6m+WMR2jAl7MHTDojTWDNivMOLEGT1nNiflSw3UdenQHJ9yeHNLzmyjyDCmtat3r1Egvz4k6yJjfixYJvObH6GBvW786q+G+7PFWpzc7rCDSaz7opdeH0HLzEhCHOAxCKI33Uc\/GOUzYkiFQmWbsu2UAYdPwXPd9sK2sohYF+OmndH1XceVvb6JL5CEADKD3S0kX1r8VEyD24XKd78ucaqzdQ8slq+cLSvPM7ccx\/GuMN507kwJZCMdXuMDp2ivttXUODghbCrz3rWzPJFMtgHEnyPV8i89lpDWBFQmnpPd5ZiaqVqnYqinkiqdsUhq9GVQrPhbUOKSGaYBkKbJ\/2Mi1HTwL63Kw4bQE8PlteMrXq70zldLZwtKX8OIEPL7ZC4d+9ch6Fd3VgRgZWhcGMZleWqYFhfMIbXC+XJfYFkCXYynbqQzMMePVhpD2p8AINagkAOlbObz52O4Hb3isIugNSkpNRjLszJMG\/2Lv8hGNnsK1Qm0ozxLpzIOfcxMN9tTnkSUgC6A+4aPWMWX5e7LZ9yjOnUyI0VNXX9IAPDtX1brWqwMShIxvq\/lkUNfoCb5ZOv9oMBueZwJ4K6KyGYBAZgGMZdudFpU8i4M+RtDgH\/0rMG+aOo8HAyF9O3AVFhzQEYciOZWhJnmwa+kprhMG53i4pCby8\/wLxiL2xUVvVj3ingYniVMwlqRsJpCGkpb4zArcSAu1OirACXnIJc8aM8G7xqjUvs0quErhbfaTH8WVK9XiNF4fznOg7v4TB0Ct2fGDpRdk\/rFunJzHMvMWpGHrL\/7+Stt31S70I1FShLJCC8kuuajUzf6Y9K8NpfnH\/5d\/wS3pX4XQc8n4jxEsQEvFyguR2x1eaM09ksftxWc2yiVwmwA8fq4iKG3t7gqgDLKx59SKn80YjSv\/Bmm58Kyd+oxAa9Fo9AJ5dXc0diFKju3AWZk\x3d\x22,\x22AJ9oCCyszx1rfj828zx2+mPB13swe13Grv5RCoNfxzDwYu+H0Pkbkkan3j14f8nuQsRgWsbkNyu4TnPA3bx73Gc6+mcIVwkIJRwzd61fOdsox3nQ91\/NStPYTHrPA0ml1jcIx9O7hD4T\x22,\x22https:\/\/payments.google.com\/payments\x22,0,0,null,null,null,\x22$9.99\x22,\x22$49.99\x22,\x22$9.99\x22,\x22$49.99\x22\x5d,\x5b1\x5d,\x22US\x22\x5d\x5d';
    </script>
    <link id='favicon-link' rel="shortcut icon" href="https://ssl.gstatic.com/colaboratory-static/common/b124d179c25e30ffc6a1ff293e85eba8/img/favicon.ico"/>
    <link rel="stylesheet" href="https://ssl.gstatic.com/colaboratory-static/common/b124d179c25e30ffc6a1ff293e85eba8/v2/external/bundle.css"/>
    <meta name="google-site-verification" content="f5qdvL6RAXlBgHezvCLpPtvx2wU5ZgIzzPULroprlnA"/>
    <meta name="google-site-verification" content="-wL8iYJTC7X0zF9qBNDQUAd-P1ZkQUK-OhSgv4Wkf1M"/>
    <meta name="google-site-verification" content="o-EECwEDQeUpZv0jTmoGfCDX7dUI8Kul4ESepXmDnO0"/>
    <meta name="google-site-verification" content="KD0T7LOCCaCHCECvO9oHcfvqtPmvpMnFU6vogWZ6FnQ"/>
    <meta name="google-site-verification" content="X_e11vbgvEHdHuaRpMld_RK9XHaPSwlBXKAWbIbJxxs"/>
    <meta name="google-site-verification" content="K1UdZBHJXQYnJGXIK1KuutmVy6dn3vG2sEyV9D1C6dM"/>
    <meta name="google-site-verification" content="wdGthzzfu0IjM3qpFqTuQL9poAQZAvAaFKyuzetLpIM"/>
    <meta name="google-site-verification" content="qZJ77guHGO0TObHUBRYVdXQlIhXBBuz8dahJVmIlzCo"/>
    <meta name="google-site-verification" content="7ahoeOOKT2ZR781GZ5xK4L9t7yO1ZOHc-gaoUALEYgw"/>
    <meta name="google-site-verification" content="PHgaSKwdxZELS21aixtLhfpvaHtKen9pnVJ25EI35Zs"/>
    <meta name="google-site-verification" content="Ozey1ptWUQW13_lCEhpPMOcmRBLqdyB3WEL-TJUjskU"/>
    <meta name="google-site-verification" content="8P-D5fVWgUIhw8X2BxnKJbf5itK0zxX0QhoBjbJFTe8"/>
    <meta name="google-site-verification" content="88fgsZDoVRBuRnDPMIEjcHCxsEXzODOqEsJoqtvQsDc"/>
    <meta name="google-site-verification" content="26aKGBCw3XblB5Ou01UhxY5WDtMqHjoTm6P-lvF6AqE"/>
    <meta name="google-site-verification" content="DGionF7db9g0dOgeBXwOAN2tmCzWBdo5yOdc_-5UcuE"/>
    <meta name="google-site-verification" content="Q9LlidR0toR7UtSyVO23xNeaqJmRp8I6r4ghBQTtntU"/>
    <meta name="google-site-verification" content="rQawcZaTEK_UrDG30cz_7nVKOVvBass61QEes0Tm04g"/>
    <meta name="google-site-verification" content="8L3ghjzKIj241AYAmEygniTe604tsXFkIrb1v-DBtGo"/>
    <meta name="google-site-verification" content="Osw7QcOK045GmOYJI2MM2_7AaL-s4q6pdn8gIv6JNxA"/>
    <meta name="google-site-verification" content="KiunYPvrY5x8umvAWcjhwPrB677xCar2LeT_8yaVrDg"/>
    <meta name="google-site-verification" content="b6bOMRzMVX2bJABYDGBPtpGcB_AUZ-o2SOTggQXErkg"/>
    <meta property="og:type" content="article"/>
    <meta property="og:image" content="https://colab.research.google.com/img/colab_favicon_256px.png"/>
    <meta property="og:title" content="Google Colaboratory"/>
    <meta http-equiv="origin-trial" content="AmUpB2+Hlwk73pYiEMbnkef/dprJi1I9rClec33apyFsbVOaCIRN29Rk9M4ht5Otgbp+thCc3MMD73GyCNfEWAkAAAB3eyJvcmlnaW4iOiJodHRwczovL2NvbGFiLnJlc2VhcmNoLmdvb2dsZS5jb206NDQzIiwiZmVhdHVyZSI6IkRpc2FibGVUaGlyZFBhcnR5U3RvcmFnZVBhcnRpdGlvbmluZyIsImV4cGlyeSI6MTcyNTQwNzk5OX0="/>
    <script nonce="w3myJk73RRGzEs4QxLsk6A==">
    window.performance.mark('head_end');
    window.performance.measure('head', 'head_start', 'head_end');
    </script>
</head>
<body class="">
    <div class="onegoogle">
        <div class="gb_Ka gb_f gb_bb" id="gb">
            <div class="gb_vd gb_9a gb_kd" ng-non-bindable="" data-ogsr-up="" style="padding:0;height:auto;display:block">
                <div class="gb_Pd" style="display:block">
                    <div class="gb_1c"></div>
                    <div class="gb_b gb_v gb_Xf gb_D">
                        <div class="gb_g gb_8a gb_Xf gb_D">
                            <a class="gb_d gb_Aa gb_D" aria-label="Google Account: Rafiul Karim  &#10;(russel.rk@gmail.com)" href="https://accounts.google.com/SignOutOptions?hl=en&amp;continue=https://colab.research.google.com/drive/1dLNMUHPRTOfMCahIcuBNzSN7HUm_62r8&amp;ec=GBRAqQM" tabindex="0" role="button">
                                <img class="gb_n gbii" src="https://lh3.googleusercontent.com/ogw/ANLem4Z9u3lvFCTRpWPhrUWhn57ZpXQ0BD5-DFSrag-A=s32-c-mo" srcset="https://lh3.googleusercontent.com/ogw/ANLem4Z9u3lvFCTRpWPhrUWhn57ZpXQ0BD5-DFSrag-A=s32-c-mo 1x, https://lh3.googleusercontent.com/ogw/ANLem4Z9u3lvFCTRpWPhrUWhn57ZpXQ0BD5-DFSrag-A=s64-c-mo 2x " alt="" aria-hidden="true" data-noaft="">
                            </a>
                        </div>
                    </div>
                </div>
            </div>
        </div>
        <script nonce="w3myJk73RRGzEs4QxLsk6A==">
        this.gbar_ = this.gbar_ || {};
        (function(_) {
            var window = this;
            try {
                _.Gd = function(a, b, c) {
                    if (!a.j)
                        if (c instanceof Array)
                            for (var d of c)
                                _.Gd(a, b, d);
                        else {
                            d = (0, _.y)(a.C, a, b);
                            const e = a.v + c;
                            a.v++;
                            b.dataset.eqid = e;
                            a.B[e] = d;
                            b && b.addEventListener ? b.addEventListener(c, d, !1) : b && b.attachEvent ? b.attachEvent("on" + c, d) : a.o.log(Error("s`" + b))
                        }
                };
            } catch (e) {
                _._DumpException(e)
            }
            try {
                _.Hd = function() {
                    if (!_.q.addEventListener || !Object.defineProperty)
                        return !1;
                    var a = !1,
                        b = Object.defineProperty({}, "passive", {
                            get: function() {
                                a = !0
                            }
                        });
                    try {
                        const c = () => {};
                        _.q.addEventListener("test", c, b);
                        _.q.removeEventListener("test", c, b)
                    } catch (c) {}
                    return a
                }();
            } catch (e) {
                _._DumpException(e)
            }
            try {
                var Id = document.querySelector(".gb_l .gb_d"),
                    Jd = document.querySelector("#gb.gb_Rc");
                Id && !Jd && _.Gd(_.sd, Id, "click");
            } catch (e) {
                _._DumpException(e)
            }
            try {
                _.zh = function(a) {
                    const b = [];
                    let c = 0;
                    for (const d in a)
                        b[c++] = a[d];
                    return b
                };
                _.Ah = function(a) {
                    if (a.o)
                        return a.o;
                    for (const b in a.i)
                        if (a.i[b].ta() && a.i[b].B())
                            return a.i[b];
                    return null
                };
                _.Bh = function(a, b) {
                    a.i[b.K()] = b
                };
                var Ch = new class  extends _.Ac{
                    constructor()
                    {
                        var a = _.Cc;
                        super();
                        this.B = a;
                        this.o = null;
                        this.j = {};
                        this.C = {};
                        this.i = {};
                        this.v = null
                    }
                    A(a)
                    {
                        this.i[a] && (_.Ah(this) && _.Ah(this).K() == a || this.i[a].P(!0))
                    }
                    Ya(a)
                    {
                        this.v = a;
                        for (const b in this.i)
                            this.i[b].ta() && this.i[b].Ya(a)
                    }
                    uc(a)
                    {
                        return a in this.i ? this.i[a] : null
                    }
                }
                ;
                _.vd("dd", Ch);
            } catch (e) {
                _._DumpException(e)
            }
            try {
                _.jj = function(a, b) {
                    return _.L(a, 36, b)
                };
            } catch (e) {
                _._DumpException(e)
            }
            try {
                var kj = document.querySelector(".gb_b .gb_d"),
                    lj = document.querySelector("#gb.gb_Rc");
                kj && !lj && _.Gd(_.sd, kj, "click");
            } catch (e) {
                _._DumpException(e)
            }
        })(this.gbar_);
        // Google Inc.
        </script>
    </div>
    <div class="scripts">
        <script nonce="w3myJk73RRGzEs4QxLsk6A==">
        window.performance.mark('external_scripts_start');
        </script>
        <script src="https://ssl.gstatic.com/colaboratory-static/common/b124d179c25e30ffc6a1ff293e85eba8/gapi_loader.js" nonce="w3myJk73RRGzEs4QxLsk6A=="></script>
        <script src="https://ssl.gstatic.com/colaboratory-static/common/b124d179c25e30ffc6a1ff293e85eba8/socketio_binary.js" nonce="w3myJk73RRGzEs4QxLsk6A=="></script>
        <script src="https://ssl.gstatic.com/colaboratory-static/common/b124d179c25e30ffc6a1ff293e85eba8/analytics_binary.js" nonce="w3myJk73RRGzEs4QxLsk6A=="></script>
        <script src="/static/mathjax/MathJax.js?config=TeX-AMS_HTML-full,Safe&delayStartupUntil=configured" nonce="w3myJk73RRGzEs4QxLsk6A=="></script>
        <script src="https://ssl.gstatic.com/colaboratory-static/common/b124d179c25e30ffc6a1ff293e85eba8/js%2Fmonaco_editor%2Fvs%2Floader.js" nonce="w3myJk73RRGzEs4QxLsk6A=="></script>
        <script nonce="w3myJk73RRGzEs4QxLsk6A==">
        window.performance.mark('external_scripts_end');
        window.performance.measure('external_scripts', 'external_scripts_start', 'external_scripts_end');
        window.performance.mark('colab_load_start');
        window.Polymer = {
            'legacyOptimizations': true,
        };
        </script>
        <script src="https://ssl.gstatic.com/colaboratory-static/common/b124d179c25e30ffc6a1ff293e85eba8/external_polymer_binary.js" nonce="w3myJk73RRGzEs4QxLsk6A=="></script>
        <script nonce="w3myJk73RRGzEs4QxLsk6A==">
        window.performance.mark('colab_load_end');
        window.performance.measure('colab_load', 'colab_load_start', 'colab_load_end');
        </script>
    </div>
    <div ng-non-bindable="">
        <div class="gb_q">
            <div class="gb_zc">
                <div>Google Account</div>
                <div class="gb_zb">Rafiul Karim</div>
                <div>russel.rk@gmail.com</div>
            </div>
        </div>
    </div>
    <script nonce="w3myJk73RRGzEs4QxLsk6A==">
    this.gbar_ = this.gbar_ || {};
    (function(_) {
        var window = this;
        try {
            var Ld,
                Od;
            _.Kd = function(a) {
                const b = a.length;
                if (0 < b) {
                    const c = Array(b);
                    for (let d = 0; d < b; d++)
                        c[d] = a[d];
                    return c
                }
                return []
            };
            Ld = function(a) {
                return a
            };
            _.Md = function(a) {
                var b = null,
                    c = _.q.trustedTypes;
                if (!c || !c.createPolicy)
                    return b;
                try {
                    b = c.createPolicy(a, {
                        createHTML: Ld,
                        createScript: Ld,
                        createScriptURL: Ld
                    })
                } catch (d) {
                    _.q.console && _.q.console.error(d.message)
                }
                return b
            };
            _.Nd = function(a, b) {
                return 0 == a.lastIndexOf(b, 0)
            };
            _.Pd = function() {
                void 0 === Od && (Od = _.Md("ogb-qtm#html"));
                return Od
            };
            try {
                (new self.OffscreenCanvas(0, 0)).getContext("2d")
            } catch (a) {}
            ;
            _.Qd = {};
            _.Rd = class {
                constructor(a)
                {
                    this.i = a;
                    this.Cb = !0
                }
                qb()
                {
                    return this.i
                }
                toString()
                {
                    return this.i.toString()
                }
            }
            ;
            _.Sd = new _.Rd("", _.Qd);
            _.Td = RegExp("^[-+,.\"'%_!#/ a-zA-Z0-9\\[\\]]+$");
            _.Ud = RegExp("\\b(url\\([ \t\n]*)('[ -&(-\\[\\]-~]*'|\"[ !#-\\[\\]-~]*\"|[!#-&*-\\[\\]-~]*)([ \t\n]*\\))", "g");
            _.Vd = RegExp("\\b(calc|cubic-bezier|fit-content|hsl|hsla|linear-gradient|matrix|minmax|radial-gradient|repeat|rgb|rgba|(rotate|scale|translate)(X|Y|Z|3d)?|steps|var)\\([-+*/0-9a-zA-Z.%#\\[\\], ]+\\)", "g");
            var Wd;
            Wd = {};
            _.Yd = function(a) {
                return a instanceof _.Xd && a.constructor === _.Xd ? a.i : "type_error:SafeHtml"
            };
            _.Zd = function(a) {
                const b = _.Pd();
                a = b ? b.createHTML(a) : a;
                return new _.Xd(a, Wd)
            };
            _.Xd = class {
                constructor(a)
                {
                    this.i = a;
                    this.Cb = !0
                }
                qb()
                {
                    return this.i.toString()
                }
                toString()
                {
                    return this.i.toString()
                }
            }
            ;
            _.$d = new _.Xd(_.q.trustedTypes && _.q.trustedTypes.emptyHTML || "", Wd);
            _.ae = _.Zd("<br>");
            var ce;
            _.be = function(a) {
                let b = !1,
                    c;
                return function() {
                    b || (c = a(), b = !0);
                    return c
                }
            }(function() {
                var a = document.createElement("div"),
                    b = document.createElement("div");
                b.appendChild(document.createElement("div"));
                a.appendChild(b);
                b = a.firstChild.firstChild;
                a.innerHTML = _.Yd(_.$d);
                return !b.parentElement
            });
            ce = /^[\w+/_-]+[=]{0,2}$/;
            _.de = function(a) {
                a = (a || _.q).document;
                return a.querySelector ? (a = a.querySelector('style[nonce],link[rel="stylesheet"][nonce]')) && (a = a.nonce || a.getAttribute("nonce")) && ce.test(a) ? a : "" : ""
            };
            _.ee = function(a, b) {
                this.width = a;
                this.height = b
            };
            _.m = _.ee.prototype;
            _.m.aspectRatio = function() {
                return this.width / this.height
            };
            _.m.Ib = function() {
                return !(this.width * this.height)
            };
            _.m.ceil = function() {
                this.width = Math.ceil(this.width);
                this.height = Math.ceil(this.height);
                return this
            };
            _.m.floor = function() {
                this.width = Math.floor(this.width);
                this.height = Math.floor(this.height);
                return this
            };
            _.m.round = function() {
                this.width = Math.round(this.width);
                this.height = Math.round(this.height);
                return this
            };
            _.R = function(a, b) {
                var c = b || document;
                if (c.getElementsByClassName)
                    a = c.getElementsByClassName(a)[0];
                else {
                    c = document;
                    var d = b || c;
                    a = d.querySelectorAll && d.querySelector && a ? d.querySelector(a ? "." + a : "") : _.fe(c, a, b)[0] || null
                }
                return a || null
            };
            _.fe = function(a, b, c) {
                var d;
                a = c || a;
                if (a.querySelectorAll && a.querySelector && b)
                    return a.querySelectorAll(b ? "." + b : "");
                if (b && a.getElementsByClassName) {
                    var e = a.getElementsByClassName(b);
                    return e
                }
                e = a.getElementsByTagName("*");
                if (b) {
                    var f = {};
                    for (c = d = 0; a = e[c]; c++) {
                        var g = a.className;
                        "function" == typeof g.split && _.sa(g.split(/\s+/), b) && (f[d++] = a)
                    }
                    f.length = d;
                    return f
                }
                return e
            };
            _.he = function(a) {
                return _.ge(document, a)
            };
            _.ge = function(a, b) {
                b = String(b);
                "application/xhtml+xml" === a.contentType && (b = b.toLowerCase());
                return a.createElement(b)
            };
            _.ie = function(a) {
                for (var b; b = a.firstChild;)
                    a.removeChild(b)
            };
            _.je = function(a) {
                return 9 == a.nodeType ? a : a.ownerDocument || a.document
            };
        } catch (e) {
            _._DumpException(e)
        }
        try {
            var Fe,
                He;
            _.Ae = function(a) {
                if (null == a)
                    return a;
                if ("string" === typeof a) {
                    if (!a)
                        return;
                    a = +a
                }
                if ("number" === typeof a)
                    return Number.isFinite(a) ? a | 0 : void 0
            };
            _.Be = function(a, b) {
                var c = Array.prototype.slice.call(arguments, 1);
                return function() {
                    var d = c.slice();
                    d.push.apply(d, arguments);
                    return a.apply(this, d)
                }
            };
            _.Ce = function(a, b) {
                return _.Ae(_.mc(a, b))
            };
            _.T = function(a, b) {
                a = _.mc(a, b);
                return null == a ? a : Number.isFinite(a) ? a | 0 : void 0
            };
            _.De = function(a, b) {
                if (void 0 !== a.va || void 0 !== a.i)
                    throw Error("v");
                a.i = b;
                _.hd(a)
            };
            _.Ee = class  extends _.Q{
                constructor(a)
                {
                    super(a)
                }
            }
            ;
            Fe = class  extends _.wd{}
            ;
            _.Ge = function(a, b) {
                if (b in a.i)
                    return a.i[b];
                throw new Fe;
            };
            He = 0;
            _.Ie = function(a) {
                return Object.prototype.hasOwnProperty.call(a, _.sb) && a[_.sb] || (a[_.sb] = ++He)
            };
            _.Je = function(a) {
                return _.Ge(_.td.i(), a)
            };
        } catch (e) {
            _._DumpException(e)
        }
        try {
            /*

             SPDX-License-Identifier: Apache-2.0
            */
            var qj = function(a) {
                return new _.pj(b => b.substr(0, a.length + 1).toLowerCase() === a + ":")
            };
            _.pj = class {
                constructor(a)
                {
                    this.Qg = a
                }
            }
            ;
            _.rj = [qj("data"), qj("http"), qj("https"), qj("mailto"), qj("ftp"), new _.pj(a => /^[^:]*([/?#]|$)/.test(a))];
            _.sj = "function" === typeof URL;
        } catch (e) {
            _._DumpException(e)
        }
        try {
            var tj;
            tj = {};
            _.uj = class {
                constructor(a)
                {
                    this.i = a
                }
                toString()
                {
                    return this.i + ""
                }
            }
            ;
            _.uj.prototype.Cb = !0;
            _.uj.prototype.qb = function() {
                return this.i.toString()
            };
            _.vj = function(a) {
                return a instanceof _.uj && a.constructor === _.uj ? a.i : "type_error:TrustedResourceUrl"
            };
            _.wj = function(a) {
                const b = _.Pd();
                a = b ? b.createScriptURL(a) : a;
                return new _.uj(a, tj)
            };
        } catch (e) {
            _._DumpException(e)
        }
        try {
            _.xj = function(a) {
                var b;
                let c;
                const d = null == (c = (b = (a.ownerDocument && a.ownerDocument.defaultView || window).document).querySelector) ? void 0 : c.call(b, "script[nonce]");
                (b = d ? d.nonce || d.getAttribute("nonce") || "" : "") && a.setAttribute("nonce", b)
            };
            _.yj = function(a) {
                if (!a)
                    return null;
                a = _.H(a, 4);
                var b;
                null === a || void 0 === a ? b = null : b = _.wj(a);
                return b
            };
            _.zj = class  extends _.Q{
                constructor(a)
                {
                    super(a)
                }
            }
            ;
            _.Aj = function(a, b) {
                return (b || document).getElementsByTagName(String(a))
            };
        } catch (e) {
            _._DumpException(e)
        }
        try {
            var Cj = function(a, b, c) {
                    a < b ? Bj(a + 1, b) : _.Cc.log(Error("W`" + a + "`" + b), {
                        url: c
                    })
                },
                Bj = function(a, b) {
                    if (Dj) {
                        const c = _.he("SCRIPT");
                        c.async = !0;
                        c.type = "text/javascript";
                        c.charset = "UTF-8";
                        c.src = _.vj(Dj);
                        _.xj(c);
                        c.onerror = _.Be(Cj, a, b, c.src);
                        _.Aj("HEAD")[0].appendChild(c)
                    }
                },
                Ej = class  extends _.Q{
                    constructor(a)
                    {
                        super(a)
                    }
                }
                ;
            var Fj = _.F(_.nd, Ej, 17) || new Ej,
                Gj,
                Dj = (Gj = _.F(Fj, _.zj, 1)) ? _.yj(Gj) : null,
                Hj,
                Ij = (Hj = _.F(Fj, _.zj, 2)) ? _.yj(Hj) : null,
                Jj = function() {
                    Bj(1, 2);
                    if (Ij) {
                        const b = _.he("LINK");
                        b.setAttribute("type", "text/css");
                        b.rel = "stylesheet";
                        b.href = _.vj(Ij).toString();
                        var a = _.de(b.ownerDocument && b.ownerDocument.defaultView);
                        a && b.setAttribute("nonce", a);
                        (a = _.de()) && b.setAttribute("nonce", a);
                        _.Aj("HEAD")[0].appendChild(b)
                    }
                };
            (function() {
                const a = _.od();
                if (_.D(a, 18))
                    Jj();
                else {
                    const b = _.Ce(a, 19) || 0;
                    window.addEventListener("load", () => {
                        window.setTimeout(Jj, b)
                    })
                }
            })();
        } catch (e) {
            _._DumpException(e)
        }
    })(this.gbar_);
    // Google Inc.
    </script>
</body>
</html>
